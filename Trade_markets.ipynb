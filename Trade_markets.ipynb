{
  "nbformat": 4,
  "nbformat_minor": 0,
  "metadata": {
    "colab": {
      "name": "Trade markets.ipynb",
      "provenance": []
    },
    "kernelspec": {
      "name": "python3",
      "display_name": "Python 3"
    },
    "language_info": {
      "name": "python"
    }
  },
  "cells": [
    {
      "cell_type": "markdown",
      "metadata": {
        "id": "j_yOAy4FtPWG"
      },
      "source": [
        "# Trade Markets Analytics"
      ]
    },
    {
      "cell_type": "markdown",
      "metadata": {
        "id": "RWb54MTUtXrJ"
      },
      "source": [
        "# 1.Introduction"
      ]
    },
    {
      "cell_type": "markdown",
      "metadata": {
        "id": "mX58jnHTEX9Z"
      },
      "source": [
        "select * from users;\n",
        "\n",
        "\n",
        "select * from trades;\n",
        "\n",
        "\n",
        "select count(*) from users;\n",
        "\n",
        "select count(*) from trades where login_hash in (select login_hash from users);\n",
        "\n",
        "\n",
        "select count(*) from trades;-- where login_hash in (select login_hash from users);\n",
        "select count(*) from trades t inner join users u on t.login_hash = u.login_hash; -- where login_hash in (select login_hash from users);\n",
        "\n"
      ]
    },
    {
      "cell_type": "code",
      "metadata": {
        "id": "bQGoUtSVq8f8"
      },
      "source": [
        "import pandas as pd\n",
        "import numpy as np\n",
        "import matplotlib.pyplot as plt\n",
        "import seaborn as sns\n",
        "import warnings\n",
        "warnings.filterwarnings('ignore')"
      ],
      "execution_count": 646,
      "outputs": []
    },
    {
      "cell_type": "code",
      "metadata": {
        "id": "9KFmB9wUtcVU"
      },
      "source": [
        "users = pd.read_csv('/content/Users.csv')\n",
        "trades = pd.read_csv('/content/Trades.csv')"
      ],
      "execution_count": 585,
      "outputs": []
    },
    {
      "cell_type": "markdown",
      "metadata": {
        "id": "RuSwlavDt1hn"
      },
      "source": [
        "# 1.1 Users"
      ]
    },
    {
      "cell_type": "code",
      "metadata": {
        "colab": {
          "base_uri": "https://localhost:8080/"
        },
        "id": "R7ufmhgmApUk",
        "outputId": "147d1091-f2cf-4d2c-bb81-f0b364c19150"
      },
      "source": [
        "users.shape"
      ],
      "execution_count": 586,
      "outputs": [
        {
          "output_type": "execute_result",
          "data": {
            "text/plain": [
              "(1000, 5)"
            ]
          },
          "metadata": {},
          "execution_count": 586
        }
      ]
    },
    {
      "cell_type": "code",
      "metadata": {
        "colab": {
          "base_uri": "https://localhost:8080/",
          "height": 142
        },
        "id": "yybV6IMFt0o_",
        "outputId": "578d0207-bfd5-4e7e-bd61-b1e477a4cf65"
      },
      "source": [
        "users.head(3)"
      ],
      "execution_count": 587,
      "outputs": [
        {
          "output_type": "execute_result",
          "data": {
            "text/html": [
              "<div>\n",
              "<style scoped>\n",
              "    .dataframe tbody tr th:only-of-type {\n",
              "        vertical-align: middle;\n",
              "    }\n",
              "\n",
              "    .dataframe tbody tr th {\n",
              "        vertical-align: top;\n",
              "    }\n",
              "\n",
              "    .dataframe thead th {\n",
              "        text-align: right;\n",
              "    }\n",
              "</style>\n",
              "<table border=\"1\" class=\"dataframe\">\n",
              "  <thead>\n",
              "    <tr style=\"text-align: right;\">\n",
              "      <th></th>\n",
              "      <th>login_hash</th>\n",
              "      <th>server_hash</th>\n",
              "      <th>country_hash</th>\n",
              "      <th>currency</th>\n",
              "      <th>enable</th>\n",
              "    </tr>\n",
              "  </thead>\n",
              "  <tbody>\n",
              "    <tr>\n",
              "      <th>0</th>\n",
              "      <td>03A15F382AF3D505592CA69EFD4DC431</td>\n",
              "      <td>76791A893BDB9A68E8EE44898D581A60</td>\n",
              "      <td>AE54A5C026F31ADA088992587D92CB3A</td>\n",
              "      <td>USD</td>\n",
              "      <td>1</td>\n",
              "    </tr>\n",
              "    <tr>\n",
              "      <th>1</th>\n",
              "      <td>F8ADF5FF9840712CE2AF7FA9EA2A3FA7</td>\n",
              "      <td>76791A893BDB9A68E8EE44898D581A60</td>\n",
              "      <td>AE54A5C026F31ADA088992587D92CB3A</td>\n",
              "      <td>USD</td>\n",
              "      <td>1</td>\n",
              "    </tr>\n",
              "    <tr>\n",
              "      <th>2</th>\n",
              "      <td>B78CD788AB20A5D61CB13BD5389CABB3</td>\n",
              "      <td>76791A893BDB9A68E8EE44898D581A60</td>\n",
              "      <td>AE54A5C026F31ADA088992587D92CB3A</td>\n",
              "      <td>USD</td>\n",
              "      <td>1</td>\n",
              "    </tr>\n",
              "  </tbody>\n",
              "</table>\n",
              "</div>"
            ],
            "text/plain": [
              "                         login_hash  ... enable\n",
              "0  03A15F382AF3D505592CA69EFD4DC431  ...      1\n",
              "1  F8ADF5FF9840712CE2AF7FA9EA2A3FA7  ...      1\n",
              "2  B78CD788AB20A5D61CB13BD5389CABB3  ...      1\n",
              "\n",
              "[3 rows x 5 columns]"
            ]
          },
          "metadata": {},
          "execution_count": 587
        }
      ]
    },
    {
      "cell_type": "code",
      "metadata": {
        "colab": {
          "base_uri": "https://localhost:8080/"
        },
        "id": "rKep4zTaHyA9",
        "outputId": "f6c6ec8e-1c88-4811-de5a-c11780bd780b"
      },
      "source": [
        "users['server_hash'].unique()"
      ],
      "execution_count": 588,
      "outputs": [
        {
          "output_type": "execute_result",
          "data": {
            "text/plain": [
              "array(['76791A893BDB9A68E8EE44898D581A60',\n",
              "       '3D1F7E00251C43107EF39F55300781DB',\n",
              "       '54203B42716FE7C40138AE6C4913EBBC'], dtype=object)"
            ]
          },
          "metadata": {},
          "execution_count": 588
        }
      ]
    },
    {
      "cell_type": "code",
      "metadata": {
        "id": "tzJpBceBH2p8"
      },
      "source": [
        "users['server_hash'] = users['server_hash'].map({'76791A893BDB9A68E8EE44898D581A60':'S1','3D1F7E00251C43107EF39F55300781DB':'S2','54203B42716FE7C40138AE6C4913EBBC':'S3'})"
      ],
      "execution_count": 589,
      "outputs": []
    },
    {
      "cell_type": "code",
      "metadata": {
        "colab": {
          "base_uri": "https://localhost:8080/"
        },
        "id": "fsxNsn71t520",
        "outputId": "d297c87a-5d8e-4830-b545-936113e35a9f"
      },
      "source": [
        "users.info()"
      ],
      "execution_count": 590,
      "outputs": [
        {
          "output_type": "stream",
          "name": "stdout",
          "text": [
            "<class 'pandas.core.frame.DataFrame'>\n",
            "RangeIndex: 1000 entries, 0 to 999\n",
            "Data columns (total 5 columns):\n",
            " #   Column        Non-Null Count  Dtype \n",
            "---  ------        --------------  ----- \n",
            " 0   login_hash    1000 non-null   object\n",
            " 1   server_hash   1000 non-null   object\n",
            " 2   country_hash  1000 non-null   object\n",
            " 3   currency      1000 non-null   object\n",
            " 4   enable        1000 non-null   int64 \n",
            "dtypes: int64(1), object(4)\n",
            "memory usage: 39.2+ KB\n"
          ]
        }
      ]
    },
    {
      "cell_type": "code",
      "metadata": {
        "colab": {
          "base_uri": "https://localhost:8080/"
        },
        "id": "Zb0CSQTjvqXN",
        "outputId": "614de4d2-bc3f-4fd2-8b36-1ebd7bb47935"
      },
      "source": [
        "users.isna().sum()"
      ],
      "execution_count": 591,
      "outputs": [
        {
          "output_type": "execute_result",
          "data": {
            "text/plain": [
              "login_hash      0\n",
              "server_hash     0\n",
              "country_hash    0\n",
              "currency        0\n",
              "enable          0\n",
              "dtype: int64"
            ]
          },
          "metadata": {},
          "execution_count": 591
        }
      ]
    },
    {
      "cell_type": "code",
      "metadata": {
        "colab": {
          "base_uri": "https://localhost:8080/"
        },
        "id": "AFg3bijzuGfv",
        "outputId": "6b49b5e6-cfce-4495-b240-c39ca9d55b25"
      },
      "source": [
        "servers = users['server_hash'].unique()\n",
        "print('Number of servers:',len(servers))\n",
        "country = users['country_hash'].unique()\n",
        "print('Number of countries:',len(country))"
      ],
      "execution_count": 592,
      "outputs": [
        {
          "output_type": "stream",
          "name": "stdout",
          "text": [
            "Number of servers: 3\n",
            "Number of countries: 19\n"
          ]
        }
      ]
    },
    {
      "cell_type": "code",
      "metadata": {
        "colab": {
          "base_uri": "https://localhost:8080/"
        },
        "id": "JFYsichHuiG5",
        "outputId": "a9eac12c-89d2-4fc9-c75c-5294445e6806"
      },
      "source": [
        "users['enable'].value_counts()"
      ],
      "execution_count": 593,
      "outputs": [
        {
          "output_type": "execute_result",
          "data": {
            "text/plain": [
              "1    973\n",
              "0     27\n",
              "Name: enable, dtype: int64"
            ]
          },
          "metadata": {},
          "execution_count": 593
        }
      ]
    },
    {
      "cell_type": "code",
      "metadata": {
        "colab": {
          "base_uri": "https://localhost:8080/",
          "height": 172
        },
        "id": "QK7OH7D4vo_j",
        "outputId": "68fd6f46-3e19-46e6-bf7e-9706bcbebaec"
      },
      "source": [
        "cur = users['currency'].value_counts().to_frame('Count')\n",
        "cur"
      ],
      "execution_count": 594,
      "outputs": [
        {
          "output_type": "execute_result",
          "data": {
            "text/html": [
              "<div>\n",
              "<style scoped>\n",
              "    .dataframe tbody tr th:only-of-type {\n",
              "        vertical-align: middle;\n",
              "    }\n",
              "\n",
              "    .dataframe tbody tr th {\n",
              "        vertical-align: top;\n",
              "    }\n",
              "\n",
              "    .dataframe thead th {\n",
              "        text-align: right;\n",
              "    }\n",
              "</style>\n",
              "<table border=\"1\" class=\"dataframe\">\n",
              "  <thead>\n",
              "    <tr style=\"text-align: right;\">\n",
              "      <th></th>\n",
              "      <th>Count</th>\n",
              "    </tr>\n",
              "  </thead>\n",
              "  <tbody>\n",
              "    <tr>\n",
              "      <th>USD</th>\n",
              "      <td>906</td>\n",
              "    </tr>\n",
              "    <tr>\n",
              "      <th>AUD</th>\n",
              "      <td>91</td>\n",
              "    </tr>\n",
              "    <tr>\n",
              "      <th>NZD</th>\n",
              "      <td>2</td>\n",
              "    </tr>\n",
              "    <tr>\n",
              "      <th>EUR</th>\n",
              "      <td>1</td>\n",
              "    </tr>\n",
              "  </tbody>\n",
              "</table>\n",
              "</div>"
            ],
            "text/plain": [
              "     Count\n",
              "USD    906\n",
              "AUD     91\n",
              "NZD      2\n",
              "EUR      1"
            ]
          },
          "metadata": {},
          "execution_count": 594
        }
      ]
    },
    {
      "cell_type": "code",
      "metadata": {
        "colab": {
          "base_uri": "https://localhost:8080/",
          "height": 309
        },
        "id": "E2-d8nRVwC-u",
        "outputId": "e946b00c-a44a-4a0f-9127-075c4990f2be"
      },
      "source": [
        "plt.figure(figsize=(16,10))\n",
        "plt.subplot(2,3,1)\n",
        "sns.countplot(data = users, x='currency',order=users['currency'].value_counts().index,hue='server_hash')\n",
        "plt.legend(loc='upper right')\n",
        "plt.subplot(2,3,2)\n",
        "sns.countplot(data = users, x='currency',order=users['currency'].value_counts().index,hue='enable')\n",
        "plt.subplot(2,3,3)\n",
        "sns.countplot(data = users, x='enable',order=users['enable'].value_counts().index)\n",
        "plt.show()"
      ],
      "execution_count": 595,
      "outputs": [
        {
          "output_type": "display_data",
          "data": {
            "image/png": "[encoded data removed]",
            "text/plain": [
              "<Figure size 1152x720 with 3 Axes>"
            ]
          },
          "metadata": {
            "needs_background": "light"
          }
        }
      ]
    },
    {
      "cell_type": "markdown",
      "metadata": {
        "id": "-2DQdDiEy2sG"
      },
      "source": [
        "#1.2 Trades"
      ]
    },
    {
      "cell_type": "code",
      "metadata": {
        "colab": {
          "base_uri": "https://localhost:8080/",
          "height": 262
        },
        "id": "yYvL26bNwsd1",
        "outputId": "f858359a-45d6-4bd6-abd2-c1bfdff1bb6a"
      },
      "source": [
        "trades.head(3)"
      ],
      "execution_count": 596,
      "outputs": [
        {
          "output_type": "execute_result",
          "data": {
            "text/html": [
              "<div>\n",
              "<style scoped>\n",
              "    .dataframe tbody tr th:only-of-type {\n",
              "        vertical-align: middle;\n",
              "    }\n",
              "\n",
              "    .dataframe tbody tr th {\n",
              "        vertical-align: top;\n",
              "    }\n",
              "\n",
              "    .dataframe thead th {\n",
              "        text-align: right;\n",
              "    }\n",
              "</style>\n",
              "<table border=\"1\" class=\"dataframe\">\n",
              "  <thead>\n",
              "    <tr style=\"text-align: right;\">\n",
              "      <th></th>\n",
              "      <th>login_hash</th>\n",
              "      <th>ticket_hash</th>\n",
              "      <th>server_hash</th>\n",
              "      <th>symbol</th>\n",
              "      <th>digits</th>\n",
              "      <th>cmd</th>\n",
              "      <th>volume</th>\n",
              "      <th>open_time</th>\n",
              "      <th>open_price</th>\n",
              "      <th>close_time</th>\n",
              "      <th>contractsize</th>\n",
              "    </tr>\n",
              "  </thead>\n",
              "  <tbody>\n",
              "    <tr>\n",
              "      <th>0</th>\n",
              "      <td>0DF500A57244E5B1670277767BEBB554</td>\n",
              "      <td>B321DC57F3B410507B986DD8962F8B1C</td>\n",
              "      <td>2F1CA40D76D7E6165DBA3924CE0D3B5C</td>\n",
              "      <td>EURUSD</td>\n",
              "      <td>5</td>\n",
              "      <td>1</td>\n",
              "      <td>5</td>\n",
              "      <td>2020-08-19 12:19:11</td>\n",
              "      <td>1.19459</td>\n",
              "      <td>2020-08-19 12:48:09</td>\n",
              "      <td>100000.0</td>\n",
              "    </tr>\n",
              "    <tr>\n",
              "      <th>1</th>\n",
              "      <td>6D66E192834605522190E51BF226FF5B</td>\n",
              "      <td>F68DA930EE1129D94EDFA02EBAF9E7B4</td>\n",
              "      <td>2F1CA40D76D7E6165DBA3924CE0D3B5C</td>\n",
              "      <td>XAUUSD</td>\n",
              "      <td>2</td>\n",
              "      <td>1</td>\n",
              "      <td>1</td>\n",
              "      <td>2020-08-28 03:09:02</td>\n",
              "      <td>1925.48000</td>\n",
              "      <td>2020-08-28 06:03:45</td>\n",
              "      <td>100.0</td>\n",
              "    </tr>\n",
              "    <tr>\n",
              "      <th>2</th>\n",
              "      <td>04852EC1A7D9FB8A291A24DDCE8C62B9</td>\n",
              "      <td>E351B480079ADEC7F6E6BE3ACEEA6EDF</td>\n",
              "      <td>2F1CA40D76D7E6165DBA3924CE0D3B5C</td>\n",
              "      <td>EURGBP</td>\n",
              "      <td>5</td>\n",
              "      <td>0</td>\n",
              "      <td>10</td>\n",
              "      <td>2020-08-25 13:47:34</td>\n",
              "      <td>0.90157</td>\n",
              "      <td>2020-09-08 12:20:43</td>\n",
              "      <td>100000.0</td>\n",
              "    </tr>\n",
              "  </tbody>\n",
              "</table>\n",
              "</div>"
            ],
            "text/plain": [
              "                         login_hash  ... contractsize\n",
              "0  0DF500A57244E5B1670277767BEBB554  ...     100000.0\n",
              "1  6D66E192834605522190E51BF226FF5B  ...        100.0\n",
              "2  04852EC1A7D9FB8A291A24DDCE8C62B9  ...     100000.0\n",
              "\n",
              "[3 rows x 11 columns]"
            ]
          },
          "metadata": {},
          "execution_count": 596
        }
      ]
    },
    {
      "cell_type": "code",
      "metadata": {
        "colab": {
          "base_uri": "https://localhost:8080/"
        },
        "id": "ztvXEo82ITMS",
        "outputId": "2fa75b9d-46f9-4fe6-a0fc-99fce82f0aff"
      },
      "source": [
        "trades['server_hash'].unique()"
      ],
      "execution_count": 597,
      "outputs": [
        {
          "output_type": "execute_result",
          "data": {
            "text/plain": [
              "array(['2F1CA40D76D7E6165DBA3924CE0D3B5C',\n",
              "       '3D1F7E00251C43107EF39F55300781DB',\n",
              "       '54203B42716FE7C40138AE6C4913EBBC'], dtype=object)"
            ]
          },
          "metadata": {},
          "execution_count": 597
        }
      ]
    },
    {
      "cell_type": "code",
      "metadata": {
        "id": "104Fc1LoIJam"
      },
      "source": [
        "trades['server_hash'] = trades['server_hash'].map({'2F1CA40D76D7E6165DBA3924CE0D3B5C':'S4','76791A893BDB9A68E8EE44898D581A60':'S1','3D1F7E00251C43107EF39F55300781DB':'S2','54203B42716FE7C40138AE6C4913EBBC':'S3'})"
      ],
      "execution_count": 598,
      "outputs": []
    },
    {
      "cell_type": "code",
      "metadata": {
        "colab": {
          "base_uri": "https://localhost:8080/"
        },
        "id": "7R3IZ9dpy63X",
        "outputId": "5767752a-fcc5-44fe-c004-090edb6594c0"
      },
      "source": [
        "trades.info()"
      ],
      "execution_count": 599,
      "outputs": [
        {
          "output_type": "stream",
          "name": "stdout",
          "text": [
            "<class 'pandas.core.frame.DataFrame'>\n",
            "RangeIndex: 100000 entries, 0 to 99999\n",
            "Data columns (total 11 columns):\n",
            " #   Column        Non-Null Count   Dtype  \n",
            "---  ------        --------------   -----  \n",
            " 0   login_hash    100000 non-null  object \n",
            " 1   ticket_hash   100000 non-null  object \n",
            " 2   server_hash   100000 non-null  object \n",
            " 3   symbol        100000 non-null  object \n",
            " 4   digits        100000 non-null  int64  \n",
            " 5   cmd           100000 non-null  int64  \n",
            " 6   volume        100000 non-null  int64  \n",
            " 7   open_time     100000 non-null  object \n",
            " 8   open_price    100000 non-null  float64\n",
            " 9   close_time    100000 non-null  object \n",
            " 10  contractsize  99993 non-null   float64\n",
            "dtypes: float64(2), int64(3), object(6)\n",
            "memory usage: 8.4+ MB\n"
          ]
        }
      ]
    },
    {
      "cell_type": "code",
      "metadata": {
        "colab": {
          "base_uri": "https://localhost:8080/",
          "height": 295
        },
        "id": "2f24QInmy9Kb",
        "outputId": "126ea258-c656-4595-e325-b78423f0e13e"
      },
      "source": [
        "trades.describe()"
      ],
      "execution_count": 600,
      "outputs": [
        {
          "output_type": "execute_result",
          "data": {
            "text/html": [
              "<div>\n",
              "<style scoped>\n",
              "    .dataframe tbody tr th:only-of-type {\n",
              "        vertical-align: middle;\n",
              "    }\n",
              "\n",
              "    .dataframe tbody tr th {\n",
              "        vertical-align: top;\n",
              "    }\n",
              "\n",
              "    .dataframe thead th {\n",
              "        text-align: right;\n",
              "    }\n",
              "</style>\n",
              "<table border=\"1\" class=\"dataframe\">\n",
              "  <thead>\n",
              "    <tr style=\"text-align: right;\">\n",
              "      <th></th>\n",
              "      <th>digits</th>\n",
              "      <th>cmd</th>\n",
              "      <th>volume</th>\n",
              "      <th>open_price</th>\n",
              "      <th>contractsize</th>\n",
              "    </tr>\n",
              "  </thead>\n",
              "  <tbody>\n",
              "    <tr>\n",
              "      <th>count</th>\n",
              "      <td>100000.000000</td>\n",
              "      <td>100000.000000</td>\n",
              "      <td>100000.000000</td>\n",
              "      <td>100000.000000</td>\n",
              "      <td>99993.000000</td>\n",
              "    </tr>\n",
              "    <tr>\n",
              "      <th>mean</th>\n",
              "      <td>3.214250</td>\n",
              "      <td>0.448170</td>\n",
              "      <td>17.986650</td>\n",
              "      <td>1262.544975</td>\n",
              "      <td>44856.840239</td>\n",
              "    </tr>\n",
              "    <tr>\n",
              "      <th>std</th>\n",
              "      <td>1.463171</td>\n",
              "      <td>0.497309</td>\n",
              "      <td>100.438786</td>\n",
              "      <td>2585.110285</td>\n",
              "      <td>49669.111281</td>\n",
              "    </tr>\n",
              "    <tr>\n",
              "      <th>min</th>\n",
              "      <td>0.000000</td>\n",
              "      <td>0.000000</td>\n",
              "      <td>0.000000</td>\n",
              "      <td>0.591670</td>\n",
              "      <td>1.000000</td>\n",
              "    </tr>\n",
              "    <tr>\n",
              "      <th>25%</th>\n",
              "      <td>2.000000</td>\n",
              "      <td>0.000000</td>\n",
              "      <td>1.000000</td>\n",
              "      <td>1.190937</td>\n",
              "      <td>100.000000</td>\n",
              "    </tr>\n",
              "    <tr>\n",
              "      <th>50%</th>\n",
              "      <td>2.000000</td>\n",
              "      <td>0.000000</td>\n",
              "      <td>3.000000</td>\n",
              "      <td>1887.590000</td>\n",
              "      <td>100.000000</td>\n",
              "    </tr>\n",
              "    <tr>\n",
              "      <th>75%</th>\n",
              "      <td>5.000000</td>\n",
              "      <td>1.000000</td>\n",
              "      <td>10.000000</td>\n",
              "      <td>1967.152500</td>\n",
              "      <td>100000.000000</td>\n",
              "    </tr>\n",
              "    <tr>\n",
              "      <th>max</th>\n",
              "      <td>5.000000</td>\n",
              "      <td>1.000000</td>\n",
              "      <td>10000.000000</td>\n",
              "      <td>28795.000000</td>\n",
              "      <td>100000.000000</td>\n",
              "    </tr>\n",
              "  </tbody>\n",
              "</table>\n",
              "</div>"
            ],
            "text/plain": [
              "              digits            cmd  ...     open_price   contractsize\n",
              "count  100000.000000  100000.000000  ...  100000.000000   99993.000000\n",
              "mean        3.214250       0.448170  ...    1262.544975   44856.840239\n",
              "std         1.463171       0.497309  ...    2585.110285   49669.111281\n",
              "min         0.000000       0.000000  ...       0.591670       1.000000\n",
              "25%         2.000000       0.000000  ...       1.190937     100.000000\n",
              "50%         2.000000       0.000000  ...    1887.590000     100.000000\n",
              "75%         5.000000       1.000000  ...    1967.152500  100000.000000\n",
              "max         5.000000       1.000000  ...   28795.000000  100000.000000\n",
              "\n",
              "[8 rows x 5 columns]"
            ]
          },
          "metadata": {},
          "execution_count": 600
        }
      ]
    },
    {
      "cell_type": "code",
      "metadata": {
        "colab": {
          "base_uri": "https://localhost:8080/"
        },
        "id": "OZhuVZpkvkCd",
        "outputId": "3af61993-c160-4551-8f45-57314b6c0911"
      },
      "source": [
        "trades.isna().sum()"
      ],
      "execution_count": 601,
      "outputs": [
        {
          "output_type": "execute_result",
          "data": {
            "text/plain": [
              "login_hash      0\n",
              "ticket_hash     0\n",
              "server_hash     0\n",
              "symbol          0\n",
              "digits          0\n",
              "cmd             0\n",
              "volume          0\n",
              "open_time       0\n",
              "open_price      0\n",
              "close_time      0\n",
              "contractsize    7\n",
              "dtype: int64"
            ]
          },
          "metadata": {},
          "execution_count": 601
        }
      ]
    },
    {
      "cell_type": "code",
      "metadata": {
        "id": "2BVi4qBOwini"
      },
      "source": [
        "# Number of contracts with size 100 and 100000 are significantly high and almost equal, we can drop the rows rather than imputation\n",
        "trades.dropna(axis=0,inplace=True)"
      ],
      "execution_count": 602,
      "outputs": []
    },
    {
      "cell_type": "code",
      "metadata": {
        "id": "U4nJD6SpzP2f",
        "colab": {
          "base_uri": "https://localhost:8080/",
          "height": 585
        },
        "outputId": "36723b8b-cc3c-4192-8e3e-0c2bb49d2919"
      },
      "source": [
        "#sns.pairplot(trades)\n",
        "plt.figure(figsize=(10,8))\n",
        "plt.subplot(2,2,1)\n",
        "sns.scatterplot(data = trades, x='contractsize',y=trades['volume'])\n",
        "plt.subplot(2,2,2)\n",
        "sns.countplot(data = trades, x='cmd',order=trades['cmd'].value_counts().index)\n",
        "plt.subplot(2,2,3)\n",
        "sns.histplot(trades['digits'],bins=10)\n",
        "plt.subplot(2,2,4)\n",
        "sns.countplot( data = trades, x='contractsize',order=trades['contractsize'].value_counts().index,hue='cmd')\n",
        "plt.tight_layout()\n",
        "plt.show()"
      ],
      "execution_count": 603,
      "outputs": [
        {
          "output_type": "display_data",
          "data": {
            "image/png": "[encoded data removed]",
            "text/plain": [
              "<Figure size 720x576 with 4 Axes>"
            ]
          },
          "metadata": {
            "needs_background": "light"
          }
        }
      ]
    },
    {
      "cell_type": "code",
      "metadata": {
        "colab": {
          "base_uri": "https://localhost:8080/",
          "height": 450
        },
        "id": "JOCuOekszfRf",
        "outputId": "68a13a5d-02cd-47cf-cc0d-c82063b736f6"
      },
      "source": [
        "cur_pairs = trades.symbol.value_counts().to_frame('Orders')\n",
        "cur_pairs[cur_pairs['Orders']>1000]"
      ],
      "execution_count": 604,
      "outputs": [
        {
          "output_type": "execute_result",
          "data": {
            "text/html": [
              "<div>\n",
              "<style scoped>\n",
              "    .dataframe tbody tr th:only-of-type {\n",
              "        vertical-align: middle;\n",
              "    }\n",
              "\n",
              "    .dataframe tbody tr th {\n",
              "        vertical-align: top;\n",
              "    }\n",
              "\n",
              "    .dataframe thead th {\n",
              "        text-align: right;\n",
              "    }\n",
              "</style>\n",
              "<table border=\"1\" class=\"dataframe\">\n",
              "  <thead>\n",
              "    <tr style=\"text-align: right;\">\n",
              "      <th></th>\n",
              "      <th>Orders</th>\n",
              "    </tr>\n",
              "  </thead>\n",
              "  <tbody>\n",
              "    <tr>\n",
              "      <th>XAUUSD</th>\n",
              "      <td>49165</td>\n",
              "    </tr>\n",
              "    <tr>\n",
              "      <th>EURUSD</th>\n",
              "      <td>17609</td>\n",
              "    </tr>\n",
              "    <tr>\n",
              "      <th>GBPUSD</th>\n",
              "      <td>6723</td>\n",
              "    </tr>\n",
              "    <tr>\n",
              "      <th>XTIUSD</th>\n",
              "      <td>2352</td>\n",
              "    </tr>\n",
              "    <tr>\n",
              "      <th>EURCHF</th>\n",
              "      <td>1989</td>\n",
              "    </tr>\n",
              "    <tr>\n",
              "      <th>USDJPY</th>\n",
              "      <td>1907</td>\n",
              "    </tr>\n",
              "    <tr>\n",
              "      <th>GBPJPY</th>\n",
              "      <td>1869</td>\n",
              "    </tr>\n",
              "    <tr>\n",
              "      <th>AUDUSD</th>\n",
              "      <td>1803</td>\n",
              "    </tr>\n",
              "    <tr>\n",
              "      <th>USDCHF</th>\n",
              "      <td>1592</td>\n",
              "    </tr>\n",
              "    <tr>\n",
              "      <th>XAGUSD</th>\n",
              "      <td>1328</td>\n",
              "    </tr>\n",
              "    <tr>\n",
              "      <th>AUDNZD</th>\n",
              "      <td>1269</td>\n",
              "    </tr>\n",
              "    <tr>\n",
              "      <th>USDCAD</th>\n",
              "      <td>1100</td>\n",
              "    </tr>\n",
              "    <tr>\n",
              "      <th>GBPCHF</th>\n",
              "      <td>1044</td>\n",
              "    </tr>\n",
              "  </tbody>\n",
              "</table>\n",
              "</div>"
            ],
            "text/plain": [
              "        Orders\n",
              "XAUUSD   49165\n",
              "EURUSD   17609\n",
              "GBPUSD    6723\n",
              "XTIUSD    2352\n",
              "EURCHF    1989\n",
              "USDJPY    1907\n",
              "GBPJPY    1869\n",
              "AUDUSD    1803\n",
              "USDCHF    1592\n",
              "XAGUSD    1328\n",
              "AUDNZD    1269\n",
              "USDCAD    1100\n",
              "GBPCHF    1044"
            ]
          },
          "metadata": {},
          "execution_count": 604
        }
      ]
    },
    {
      "cell_type": "code",
      "metadata": {
        "id": "tupq1A8_ze8q"
      },
      "source": [
        "trades['close_time'] = pd.to_datetime(trades['close_time'])\n",
        "trades['open_time'] = pd.to_datetime(trades['open_time'])"
      ],
      "execution_count": 605,
      "outputs": []
    },
    {
      "cell_type": "code",
      "metadata": {
        "id": "kugsHp4n4arD"
      },
      "source": [
        "trades['cmd'] = trades['cmd'].astype(np.object)"
      ],
      "execution_count": 606,
      "outputs": []
    },
    {
      "cell_type": "code",
      "metadata": {
        "id": "-p2Hk2b-45wJ"
      },
      "source": [
        "#trades['time_duration'] = trades['close_time']-trades['open_time']"
      ],
      "execution_count": 607,
      "outputs": []
    },
    {
      "cell_type": "code",
      "metadata": {
        "id": "swQO5nMM5Th-"
      },
      "source": [
        "#sns.distplot(trades['time_duration'])\n"
      ],
      "execution_count": 608,
      "outputs": []
    },
    {
      "cell_type": "markdown",
      "metadata": {
        "id": "Iy3cLoIDARlk"
      },
      "source": [
        "trades['open_year'] = trades['open_time'].dt.year\n",
        "trades['close_year'] = trades['close_time'].dt.year\n",
        "trades['open_month'] = trades['open_time'].dt.month\n",
        "trades['close_month'] = trades['close_time'].dt.month\n",
        "trades['open_day'] = trades['open_time'].dt.day\n",
        "trades['close_day'] = trades['close_time'].dt.day\n",
        "trades['open_hr'] = trades['open_time'].dt.hour\n",
        "trades['close_hr'] = trades['close_time'].dt.hour\n",
        "trades['open_min'] = trades['open_time'].dt.minute\n",
        "trades['close_min'] = trades['close_time'].dt.minute\n",
        "trades['open_sec'] = trades['open_time'].dt.second\n",
        "trades['close_sec'] = trades['close_time'].dt.second"
      ]
    },
    {
      "cell_type": "code",
      "metadata": {
        "id": "xFfY-xMG7NLV"
      },
      "source": [
        "#trades['close_year'].value_counts()"
      ],
      "execution_count": 609,
      "outputs": []
    },
    {
      "cell_type": "code",
      "metadata": {
        "id": "uUaHwHb_72sN"
      },
      "source": [
        "#trades['time_diff_day'] = trades['time_duration'].values.astype('datetime64[D]')"
      ],
      "execution_count": 610,
      "outputs": []
    },
    {
      "cell_type": "code",
      "metadata": {
        "id": "UZlior9Q9znC"
      },
      "source": [
        "#trades['time_duration'].values.astype('datetime64[D]')\n",
        "#trades[['time_duration']].apply(pd.to_numeric)\n",
        "\n",
        "\n",
        "#trades['time_duration'] = (trades['close_time']-trades['open_time']).dt.day\n",
        "#trades['time_duration']"
      ],
      "execution_count": 611,
      "outputs": []
    },
    {
      "cell_type": "code",
      "metadata": {
        "id": "qu1P0RQv8xQS"
      },
      "source": [
        "#trades['time_diff_day']"
      ],
      "execution_count": 612,
      "outputs": []
    },
    {
      "cell_type": "code",
      "metadata": {
        "id": "kc3nARf89BeV"
      },
      "source": [
        "df = pd.merge(users, trades, how='inner', on='login_hash')"
      ],
      "execution_count": 613,
      "outputs": []
    },
    {
      "cell_type": "code",
      "metadata": {
        "colab": {
          "base_uri": "https://localhost:8080/"
        },
        "id": "20_KTsrpCZ82",
        "outputId": "fb20a20d-bf67-487e-ef40-da803b4aa0d8"
      },
      "source": [
        "df.shape"
      ],
      "execution_count": 614,
      "outputs": [
        {
          "output_type": "execute_result",
          "data": {
            "text/plain": [
              "(36067, 15)"
            ]
          },
          "metadata": {},
          "execution_count": 614
        }
      ]
    },
    {
      "cell_type": "code",
      "metadata": {
        "id": "bzvu83DFCiMo"
      },
      "source": [
        "#df['diff_year'] = df['close_year'] - df['open_year']\n",
        "#df['diff_month'] = df['open_month'] - df['close_month'] \n",
        "#df['diff_day'] = df['open_day'] - df['close_day']\n",
        "#df['diff_hr'] = df['open_hr'] - df['close_hr']\n",
        "#df['diff_min'] = df['open_min'] - df['close_min']\n",
        "#df['diff_sec'] = df['open_sec'] - df['close_sec']"
      ],
      "execution_count": 615,
      "outputs": []
    },
    {
      "cell_type": "code",
      "metadata": {
        "colab": {
          "base_uri": "https://localhost:8080/",
          "height": 391
        },
        "id": "XBeA53pMCbdA",
        "outputId": "7f5de9bd-acb5-49f7-de9e-401e2d75e9cf"
      },
      "source": [
        "df.head()"
      ],
      "execution_count": 616,
      "outputs": [
        {
          "output_type": "execute_result",
          "data": {
            "text/html": [
              "<div>\n",
              "<style scoped>\n",
              "    .dataframe tbody tr th:only-of-type {\n",
              "        vertical-align: middle;\n",
              "    }\n",
              "\n",
              "    .dataframe tbody tr th {\n",
              "        vertical-align: top;\n",
              "    }\n",
              "\n",
              "    .dataframe thead th {\n",
              "        text-align: right;\n",
              "    }\n",
              "</style>\n",
              "<table border=\"1\" class=\"dataframe\">\n",
              "  <thead>\n",
              "    <tr style=\"text-align: right;\">\n",
              "      <th></th>\n",
              "      <th>login_hash</th>\n",
              "      <th>server_hash_x</th>\n",
              "      <th>country_hash</th>\n",
              "      <th>currency</th>\n",
              "      <th>enable</th>\n",
              "      <th>ticket_hash</th>\n",
              "      <th>server_hash_y</th>\n",
              "      <th>symbol</th>\n",
              "      <th>digits</th>\n",
              "      <th>cmd</th>\n",
              "      <th>volume</th>\n",
              "      <th>open_time</th>\n",
              "      <th>open_price</th>\n",
              "      <th>close_time</th>\n",
              "      <th>contractsize</th>\n",
              "    </tr>\n",
              "  </thead>\n",
              "  <tbody>\n",
              "    <tr>\n",
              "      <th>0</th>\n",
              "      <td>A244C34BC761A97487485F0FF5A43A49</td>\n",
              "      <td>S2</td>\n",
              "      <td>4442E4AF0916F53A07FB8CA9A49B98ED</td>\n",
              "      <td>AUD</td>\n",
              "      <td>1</td>\n",
              "      <td>079A2E7D6C17E4F82D0F2215E0F8CBC9</td>\n",
              "      <td>S2</td>\n",
              "      <td>CHFJPY</td>\n",
              "      <td>3</td>\n",
              "      <td>1</td>\n",
              "      <td>1</td>\n",
              "      <td>2020-08-12 15:53:30</td>\n",
              "      <td>117.15000</td>\n",
              "      <td>2020-08-12 15:55:52</td>\n",
              "      <td>100000.0</td>\n",
              "    </tr>\n",
              "    <tr>\n",
              "      <th>1</th>\n",
              "      <td>A244C34BC761A97487485F0FF5A43A49</td>\n",
              "      <td>S2</td>\n",
              "      <td>4442E4AF0916F53A07FB8CA9A49B98ED</td>\n",
              "      <td>AUD</td>\n",
              "      <td>1</td>\n",
              "      <td>9CCEAE55FF215C71E3486890C2908467</td>\n",
              "      <td>S2</td>\n",
              "      <td>AUDNZD</td>\n",
              "      <td>5</td>\n",
              "      <td>0</td>\n",
              "      <td>5</td>\n",
              "      <td>2020-08-31 08:54:34</td>\n",
              "      <td>1.09184</td>\n",
              "      <td>2020-08-31 12:17:38</td>\n",
              "      <td>100000.0</td>\n",
              "    </tr>\n",
              "    <tr>\n",
              "      <th>2</th>\n",
              "      <td>A244C34BC761A97487485F0FF5A43A49</td>\n",
              "      <td>S2</td>\n",
              "      <td>4442E4AF0916F53A07FB8CA9A49B98ED</td>\n",
              "      <td>AUD</td>\n",
              "      <td>1</td>\n",
              "      <td>9AEEAF4DBFD3BC3D0C74E0547A5E63CC</td>\n",
              "      <td>S2</td>\n",
              "      <td>NZDCHF</td>\n",
              "      <td>5</td>\n",
              "      <td>1</td>\n",
              "      <td>2</td>\n",
              "      <td>2020-08-26 16:46:48</td>\n",
              "      <td>0.59741</td>\n",
              "      <td>2020-11-10 11:46:38</td>\n",
              "      <td>100000.0</td>\n",
              "    </tr>\n",
              "    <tr>\n",
              "      <th>3</th>\n",
              "      <td>A244C34BC761A97487485F0FF5A43A49</td>\n",
              "      <td>S2</td>\n",
              "      <td>4442E4AF0916F53A07FB8CA9A49B98ED</td>\n",
              "      <td>AUD</td>\n",
              "      <td>1</td>\n",
              "      <td>33419C6F0853738662AD6F2B4634E4FA</td>\n",
              "      <td>S2</td>\n",
              "      <td>AUDNZD</td>\n",
              "      <td>5</td>\n",
              "      <td>1</td>\n",
              "      <td>15</td>\n",
              "      <td>2020-08-07 09:55:24</td>\n",
              "      <td>1.08127</td>\n",
              "      <td>2020-09-18 07:20:12</td>\n",
              "      <td>100000.0</td>\n",
              "    </tr>\n",
              "    <tr>\n",
              "      <th>4</th>\n",
              "      <td>A244C34BC761A97487485F0FF5A43A49</td>\n",
              "      <td>S2</td>\n",
              "      <td>4442E4AF0916F53A07FB8CA9A49B98ED</td>\n",
              "      <td>AUD</td>\n",
              "      <td>1</td>\n",
              "      <td>F59719624F9069434028DC77BD2C27A6</td>\n",
              "      <td>S2</td>\n",
              "      <td>GBPAUD</td>\n",
              "      <td>5</td>\n",
              "      <td>1</td>\n",
              "      <td>1</td>\n",
              "      <td>2020-08-27 15:40:42</td>\n",
              "      <td>1.81941</td>\n",
              "      <td>2020-08-27 16:58:55</td>\n",
              "      <td>100000.0</td>\n",
              "    </tr>\n",
              "  </tbody>\n",
              "</table>\n",
              "</div>"
            ],
            "text/plain": [
              "                         login_hash  ... contractsize\n",
              "0  A244C34BC761A97487485F0FF5A43A49  ...     100000.0\n",
              "1  A244C34BC761A97487485F0FF5A43A49  ...     100000.0\n",
              "2  A244C34BC761A97487485F0FF5A43A49  ...     100000.0\n",
              "3  A244C34BC761A97487485F0FF5A43A49  ...     100000.0\n",
              "4  A244C34BC761A97487485F0FF5A43A49  ...     100000.0\n",
              "\n",
              "[5 rows x 15 columns]"
            ]
          },
          "metadata": {},
          "execution_count": 616
        }
      ]
    },
    {
      "cell_type": "code",
      "metadata": {
        "id": "nNUJoX7mtNtv"
      },
      "source": [
        "df_train = df.copy()"
      ],
      "execution_count": 617,
      "outputs": []
    },
    {
      "cell_type": "code",
      "metadata": {
        "colab": {
          "base_uri": "https://localhost:8080/"
        },
        "id": "I59lhna-vcUA",
        "outputId": "28fff334-8329-462e-ca8a-c8bcddf6a11d"
      },
      "source": [
        "df_train.isna().sum()"
      ],
      "execution_count": 618,
      "outputs": [
        {
          "output_type": "execute_result",
          "data": {
            "text/plain": [
              "login_hash       0\n",
              "server_hash_x    0\n",
              "country_hash     0\n",
              "currency         0\n",
              "enable           0\n",
              "ticket_hash      0\n",
              "server_hash_y    0\n",
              "symbol           0\n",
              "digits           0\n",
              "cmd              0\n",
              "volume           0\n",
              "open_time        0\n",
              "open_price       0\n",
              "close_time       0\n",
              "contractsize     0\n",
              "dtype: int64"
            ]
          },
          "metadata": {},
          "execution_count": 618
        }
      ]
    },
    {
      "cell_type": "markdown",
      "metadata": {
        "id": "Qbv3DqSv0QBC"
      },
      "source": [
        "Performing labelling to non-int data"
      ]
    },
    {
      "cell_type": "code",
      "metadata": {
        "colab": {
          "base_uri": "https://localhost:8080/"
        },
        "id": "1ljI0I1u1Ot9",
        "outputId": "03323005-db73-4a63-ce12-efa4144cc90b"
      },
      "source": [
        "df_train.info()"
      ],
      "execution_count": 619,
      "outputs": [
        {
          "output_type": "stream",
          "name": "stdout",
          "text": [
            "<class 'pandas.core.frame.DataFrame'>\n",
            "Int64Index: 36067 entries, 0 to 36066\n",
            "Data columns (total 15 columns):\n",
            " #   Column         Non-Null Count  Dtype         \n",
            "---  ------         --------------  -----         \n",
            " 0   login_hash     36067 non-null  object        \n",
            " 1   server_hash_x  36067 non-null  object        \n",
            " 2   country_hash   36067 non-null  object        \n",
            " 3   currency       36067 non-null  object        \n",
            " 4   enable         36067 non-null  int64         \n",
            " 5   ticket_hash    36067 non-null  object        \n",
            " 6   server_hash_y  36067 non-null  object        \n",
            " 7   symbol         36067 non-null  object        \n",
            " 8   digits         36067 non-null  int64         \n",
            " 9   cmd            36067 non-null  object        \n",
            " 10  volume         36067 non-null  int64         \n",
            " 11  open_time      36067 non-null  datetime64[ns]\n",
            " 12  open_price     36067 non-null  float64       \n",
            " 13  close_time     36067 non-null  datetime64[ns]\n",
            " 14  contractsize   36067 non-null  float64       \n",
            "dtypes: datetime64[ns](2), float64(2), int64(3), object(8)\n",
            "memory usage: 4.4+ MB\n"
          ]
        }
      ]
    },
    {
      "cell_type": "code",
      "metadata": {
        "colab": {
          "base_uri": "https://localhost:8080/"
        },
        "id": "IjdBhc_b2R77",
        "outputId": "428b9831-109d-412b-fdd2-9e660e401d4a"
      },
      "source": [
        "df['server_hash_x'].value_counts()"
      ],
      "execution_count": 620,
      "outputs": [
        {
          "output_type": "execute_result",
          "data": {
            "text/plain": [
              "S2    35960\n",
              "S3      107\n",
              "Name: server_hash_x, dtype: int64"
            ]
          },
          "metadata": {},
          "execution_count": 620
        }
      ]
    },
    {
      "cell_type": "code",
      "metadata": {
        "id": "UZVjlahp0Uxx"
      },
      "source": [
        "from sklearn.preprocessing import LabelEncoder, StandardScaler"
      ],
      "execution_count": 621,
      "outputs": []
    },
    {
      "cell_type": "code",
      "metadata": {
        "id": "Tqk7njdD1CLo"
      },
      "source": [
        "df_ser = pd.get_dummies(df['server_hash_x'], drop_first=True)\n",
        "df_cur = pd.get_dummies(df['country_hash'], drop_first=True)\n",
        "df_train2 = pd.concat((df_train,df_cur,df_ser), axis=1)"
      ],
      "execution_count": 622,
      "outputs": []
    },
    {
      "cell_type": "code",
      "metadata": {
        "colab": {
          "base_uri": "https://localhost:8080/",
          "height": 773
        },
        "id": "x4eQ8jDk12RF",
        "outputId": "bab43676-09d6-497b-97fa-27699bf6b311"
      },
      "source": [
        "df_train2"
      ],
      "execution_count": 623,
      "outputs": [
        {
          "output_type": "execute_result",
          "data": {
            "text/html": [
              "<div>\n",
              "<style scoped>\n",
              "    .dataframe tbody tr th:only-of-type {\n",
              "        vertical-align: middle;\n",
              "    }\n",
              "\n",
              "    .dataframe tbody tr th {\n",
              "        vertical-align: top;\n",
              "    }\n",
              "\n",
              "    .dataframe thead th {\n",
              "        text-align: right;\n",
              "    }\n",
              "</style>\n",
              "<table border=\"1\" class=\"dataframe\">\n",
              "  <thead>\n",
              "    <tr style=\"text-align: right;\">\n",
              "      <th></th>\n",
              "      <th>login_hash</th>\n",
              "      <th>server_hash_x</th>\n",
              "      <th>country_hash</th>\n",
              "      <th>currency</th>\n",
              "      <th>enable</th>\n",
              "      <th>ticket_hash</th>\n",
              "      <th>server_hash_y</th>\n",
              "      <th>symbol</th>\n",
              "      <th>digits</th>\n",
              "      <th>cmd</th>\n",
              "      <th>volume</th>\n",
              "      <th>open_time</th>\n",
              "      <th>open_price</th>\n",
              "      <th>close_time</th>\n",
              "      <th>contractsize</th>\n",
              "      <th>221CDFB73049678E244380B45872CBB2</th>\n",
              "      <th>4442E4AF0916F53A07FB8CA9A49B98ED</th>\n",
              "      <th>4A2581E346483DA488A11C4B2D2DE97E</th>\n",
              "      <th>551FE18EF47D4E6E9D943B9A68ADA21D</th>\n",
              "      <th>77DAB2F81A6C8C9136EFBA7AB2C4C0F2</th>\n",
              "      <th>89F9C9F489BE2A83CF57E53B9197D288</th>\n",
              "      <th>907EBA32D950BFAB68227FD7EA22999B</th>\n",
              "      <th>A67D4CBDD1B59E0FFCCC6BAFC83EB033</th>\n",
              "      <th>A8F809C99C4A996780C3046B9B594195</th>\n",
              "      <th>AE54A5C026F31ADA088992587D92CB3A</th>\n",
              "      <th>C51ED580EA5E20C910D951F692512B4D</th>\n",
              "      <th>S3</th>\n",
              "    </tr>\n",
              "  </thead>\n",
              "  <tbody>\n",
              "    <tr>\n",
              "      <th>0</th>\n",
              "      <td>A244C34BC761A97487485F0FF5A43A49</td>\n",
              "      <td>S2</td>\n",
              "      <td>4442E4AF0916F53A07FB8CA9A49B98ED</td>\n",
              "      <td>AUD</td>\n",
              "      <td>1</td>\n",
              "      <td>079A2E7D6C17E4F82D0F2215E0F8CBC9</td>\n",
              "      <td>S2</td>\n",
              "      <td>CHFJPY</td>\n",
              "      <td>3</td>\n",
              "      <td>1</td>\n",
              "      <td>1</td>\n",
              "      <td>2020-08-12 15:53:30</td>\n",
              "      <td>117.15000</td>\n",
              "      <td>2020-08-12 15:55:52</td>\n",
              "      <td>100000.0</td>\n",
              "      <td>0</td>\n",
              "      <td>1</td>\n",
              "      <td>0</td>\n",
              "      <td>0</td>\n",
              "      <td>0</td>\n",
              "      <td>0</td>\n",
              "      <td>0</td>\n",
              "      <td>0</td>\n",
              "      <td>0</td>\n",
              "      <td>0</td>\n",
              "      <td>0</td>\n",
              "      <td>0</td>\n",
              "    </tr>\n",
              "    <tr>\n",
              "      <th>1</th>\n",
              "      <td>A244C34BC761A97487485F0FF5A43A49</td>\n",
              "      <td>S2</td>\n",
              "      <td>4442E4AF0916F53A07FB8CA9A49B98ED</td>\n",
              "      <td>AUD</td>\n",
              "      <td>1</td>\n",
              "      <td>9CCEAE55FF215C71E3486890C2908467</td>\n",
              "      <td>S2</td>\n",
              "      <td>AUDNZD</td>\n",
              "      <td>5</td>\n",
              "      <td>0</td>\n",
              "      <td>5</td>\n",
              "      <td>2020-08-31 08:54:34</td>\n",
              "      <td>1.09184</td>\n",
              "      <td>2020-08-31 12:17:38</td>\n",
              "      <td>100000.0</td>\n",
              "      <td>0</td>\n",
              "      <td>1</td>\n",
              "      <td>0</td>\n",
              "      <td>0</td>\n",
              "      <td>0</td>\n",
              "      <td>0</td>\n",
              "      <td>0</td>\n",
              "      <td>0</td>\n",
              "      <td>0</td>\n",
              "      <td>0</td>\n",
              "      <td>0</td>\n",
              "      <td>0</td>\n",
              "    </tr>\n",
              "    <tr>\n",
              "      <th>2</th>\n",
              "      <td>A244C34BC761A97487485F0FF5A43A49</td>\n",
              "      <td>S2</td>\n",
              "      <td>4442E4AF0916F53A07FB8CA9A49B98ED</td>\n",
              "      <td>AUD</td>\n",
              "      <td>1</td>\n",
              "      <td>9AEEAF4DBFD3BC3D0C74E0547A5E63CC</td>\n",
              "      <td>S2</td>\n",
              "      <td>NZDCHF</td>\n",
              "      <td>5</td>\n",
              "      <td>1</td>\n",
              "      <td>2</td>\n",
              "      <td>2020-08-26 16:46:48</td>\n",
              "      <td>0.59741</td>\n",
              "      <td>2020-11-10 11:46:38</td>\n",
              "      <td>100000.0</td>\n",
              "      <td>0</td>\n",
              "      <td>1</td>\n",
              "      <td>0</td>\n",
              "      <td>0</td>\n",
              "      <td>0</td>\n",
              "      <td>0</td>\n",
              "      <td>0</td>\n",
              "      <td>0</td>\n",
              "      <td>0</td>\n",
              "      <td>0</td>\n",
              "      <td>0</td>\n",
              "      <td>0</td>\n",
              "    </tr>\n",
              "    <tr>\n",
              "      <th>3</th>\n",
              "      <td>A244C34BC761A97487485F0FF5A43A49</td>\n",
              "      <td>S2</td>\n",
              "      <td>4442E4AF0916F53A07FB8CA9A49B98ED</td>\n",
              "      <td>AUD</td>\n",
              "      <td>1</td>\n",
              "      <td>33419C6F0853738662AD6F2B4634E4FA</td>\n",
              "      <td>S2</td>\n",
              "      <td>AUDNZD</td>\n",
              "      <td>5</td>\n",
              "      <td>1</td>\n",
              "      <td>15</td>\n",
              "      <td>2020-08-07 09:55:24</td>\n",
              "      <td>1.08127</td>\n",
              "      <td>2020-09-18 07:20:12</td>\n",
              "      <td>100000.0</td>\n",
              "      <td>0</td>\n",
              "      <td>1</td>\n",
              "      <td>0</td>\n",
              "      <td>0</td>\n",
              "      <td>0</td>\n",
              "      <td>0</td>\n",
              "      <td>0</td>\n",
              "      <td>0</td>\n",
              "      <td>0</td>\n",
              "      <td>0</td>\n",
              "      <td>0</td>\n",
              "      <td>0</td>\n",
              "    </tr>\n",
              "    <tr>\n",
              "      <th>4</th>\n",
              "      <td>A244C34BC761A97487485F0FF5A43A49</td>\n",
              "      <td>S2</td>\n",
              "      <td>4442E4AF0916F53A07FB8CA9A49B98ED</td>\n",
              "      <td>AUD</td>\n",
              "      <td>1</td>\n",
              "      <td>F59719624F9069434028DC77BD2C27A6</td>\n",
              "      <td>S2</td>\n",
              "      <td>GBPAUD</td>\n",
              "      <td>5</td>\n",
              "      <td>1</td>\n",
              "      <td>1</td>\n",
              "      <td>2020-08-27 15:40:42</td>\n",
              "      <td>1.81941</td>\n",
              "      <td>2020-08-27 16:58:55</td>\n",
              "      <td>100000.0</td>\n",
              "      <td>0</td>\n",
              "      <td>1</td>\n",
              "      <td>0</td>\n",
              "      <td>0</td>\n",
              "      <td>0</td>\n",
              "      <td>0</td>\n",
              "      <td>0</td>\n",
              "      <td>0</td>\n",
              "      <td>0</td>\n",
              "      <td>0</td>\n",
              "      <td>0</td>\n",
              "      <td>0</td>\n",
              "    </tr>\n",
              "    <tr>\n",
              "      <th>...</th>\n",
              "      <td>...</td>\n",
              "      <td>...</td>\n",
              "      <td>...</td>\n",
              "      <td>...</td>\n",
              "      <td>...</td>\n",
              "      <td>...</td>\n",
              "      <td>...</td>\n",
              "      <td>...</td>\n",
              "      <td>...</td>\n",
              "      <td>...</td>\n",
              "      <td>...</td>\n",
              "      <td>...</td>\n",
              "      <td>...</td>\n",
              "      <td>...</td>\n",
              "      <td>...</td>\n",
              "      <td>...</td>\n",
              "      <td>...</td>\n",
              "      <td>...</td>\n",
              "      <td>...</td>\n",
              "      <td>...</td>\n",
              "      <td>...</td>\n",
              "      <td>...</td>\n",
              "      <td>...</td>\n",
              "      <td>...</td>\n",
              "      <td>...</td>\n",
              "      <td>...</td>\n",
              "      <td>...</td>\n",
              "    </tr>\n",
              "    <tr>\n",
              "      <th>36062</th>\n",
              "      <td>63772A5F9798F765896235B07E6BC449</td>\n",
              "      <td>S2</td>\n",
              "      <td>4442E4AF0916F53A07FB8CA9A49B98ED</td>\n",
              "      <td>AUD</td>\n",
              "      <td>1</td>\n",
              "      <td>D34F969A21F0960EA66D82E8E7085895</td>\n",
              "      <td>S2</td>\n",
              "      <td>GBPUSD</td>\n",
              "      <td>5</td>\n",
              "      <td>1</td>\n",
              "      <td>5</td>\n",
              "      <td>2020-08-28 07:31:52</td>\n",
              "      <td>1.32400</td>\n",
              "      <td>2020-08-28 07:40:59</td>\n",
              "      <td>100000.0</td>\n",
              "      <td>0</td>\n",
              "      <td>1</td>\n",
              "      <td>0</td>\n",
              "      <td>0</td>\n",
              "      <td>0</td>\n",
              "      <td>0</td>\n",
              "      <td>0</td>\n",
              "      <td>0</td>\n",
              "      <td>0</td>\n",
              "      <td>0</td>\n",
              "      <td>0</td>\n",
              "      <td>0</td>\n",
              "    </tr>\n",
              "    <tr>\n",
              "      <th>36063</th>\n",
              "      <td>63772A5F9798F765896235B07E6BC449</td>\n",
              "      <td>S2</td>\n",
              "      <td>4442E4AF0916F53A07FB8CA9A49B98ED</td>\n",
              "      <td>AUD</td>\n",
              "      <td>1</td>\n",
              "      <td>8A76E6507E13A0C1ADA76D65BDC8286C</td>\n",
              "      <td>S2</td>\n",
              "      <td>XAUUSD</td>\n",
              "      <td>2</td>\n",
              "      <td>0</td>\n",
              "      <td>1</td>\n",
              "      <td>2020-08-28 13:02:54</td>\n",
              "      <td>1956.86000</td>\n",
              "      <td>2020-08-28 13:05:28</td>\n",
              "      <td>100.0</td>\n",
              "      <td>0</td>\n",
              "      <td>1</td>\n",
              "      <td>0</td>\n",
              "      <td>0</td>\n",
              "      <td>0</td>\n",
              "      <td>0</td>\n",
              "      <td>0</td>\n",
              "      <td>0</td>\n",
              "      <td>0</td>\n",
              "      <td>0</td>\n",
              "      <td>0</td>\n",
              "      <td>0</td>\n",
              "    </tr>\n",
              "    <tr>\n",
              "      <th>36064</th>\n",
              "      <td>63772A5F9798F765896235B07E6BC449</td>\n",
              "      <td>S2</td>\n",
              "      <td>4442E4AF0916F53A07FB8CA9A49B98ED</td>\n",
              "      <td>AUD</td>\n",
              "      <td>1</td>\n",
              "      <td>10A5AFDAC6EF6DD6440025DBBFCC8225</td>\n",
              "      <td>S2</td>\n",
              "      <td>XAUUSD</td>\n",
              "      <td>2</td>\n",
              "      <td>0</td>\n",
              "      <td>1</td>\n",
              "      <td>2020-08-28 03:18:34</td>\n",
              "      <td>1926.99000</td>\n",
              "      <td>2020-08-28 03:19:21</td>\n",
              "      <td>100.0</td>\n",
              "      <td>0</td>\n",
              "      <td>1</td>\n",
              "      <td>0</td>\n",
              "      <td>0</td>\n",
              "      <td>0</td>\n",
              "      <td>0</td>\n",
              "      <td>0</td>\n",
              "      <td>0</td>\n",
              "      <td>0</td>\n",
              "      <td>0</td>\n",
              "      <td>0</td>\n",
              "      <td>0</td>\n",
              "    </tr>\n",
              "    <tr>\n",
              "      <th>36065</th>\n",
              "      <td>63772A5F9798F765896235B07E6BC449</td>\n",
              "      <td>S2</td>\n",
              "      <td>4442E4AF0916F53A07FB8CA9A49B98ED</td>\n",
              "      <td>AUD</td>\n",
              "      <td>1</td>\n",
              "      <td>650DC22D9210101A4ED7DFF8FC0DF81D</td>\n",
              "      <td>S2</td>\n",
              "      <td>XAUUSD</td>\n",
              "      <td>2</td>\n",
              "      <td>1</td>\n",
              "      <td>2</td>\n",
              "      <td>2020-08-28 05:10:24</td>\n",
              "      <td>1936.33000</td>\n",
              "      <td>2020-08-28 05:10:58</td>\n",
              "      <td>100.0</td>\n",
              "      <td>0</td>\n",
              "      <td>1</td>\n",
              "      <td>0</td>\n",
              "      <td>0</td>\n",
              "      <td>0</td>\n",
              "      <td>0</td>\n",
              "      <td>0</td>\n",
              "      <td>0</td>\n",
              "      <td>0</td>\n",
              "      <td>0</td>\n",
              "      <td>0</td>\n",
              "      <td>0</td>\n",
              "    </tr>\n",
              "    <tr>\n",
              "      <th>36066</th>\n",
              "      <td>63772A5F9798F765896235B07E6BC449</td>\n",
              "      <td>S2</td>\n",
              "      <td>4442E4AF0916F53A07FB8CA9A49B98ED</td>\n",
              "      <td>AUD</td>\n",
              "      <td>1</td>\n",
              "      <td>CDA730BFE84D7873AD06EE96B47320C6</td>\n",
              "      <td>S2</td>\n",
              "      <td>XAUUSD</td>\n",
              "      <td>2</td>\n",
              "      <td>0</td>\n",
              "      <td>2</td>\n",
              "      <td>2020-08-28 08:29:16</td>\n",
              "      <td>1942.31000</td>\n",
              "      <td>2020-08-28 08:30:21</td>\n",
              "      <td>100.0</td>\n",
              "      <td>0</td>\n",
              "      <td>1</td>\n",
              "      <td>0</td>\n",
              "      <td>0</td>\n",
              "      <td>0</td>\n",
              "      <td>0</td>\n",
              "      <td>0</td>\n",
              "      <td>0</td>\n",
              "      <td>0</td>\n",
              "      <td>0</td>\n",
              "      <td>0</td>\n",
              "      <td>0</td>\n",
              "    </tr>\n",
              "  </tbody>\n",
              "</table>\n",
              "<p>36067 rows × 27 columns</p>\n",
              "</div>"
            ],
            "text/plain": [
              "                             login_hash  ... S3\n",
              "0      A244C34BC761A97487485F0FF5A43A49  ...  0\n",
              "1      A244C34BC761A97487485F0FF5A43A49  ...  0\n",
              "2      A244C34BC761A97487485F0FF5A43A49  ...  0\n",
              "3      A244C34BC761A97487485F0FF5A43A49  ...  0\n",
              "4      A244C34BC761A97487485F0FF5A43A49  ...  0\n",
              "...                                 ...  ... ..\n",
              "36062  63772A5F9798F765896235B07E6BC449  ...  0\n",
              "36063  63772A5F9798F765896235B07E6BC449  ...  0\n",
              "36064  63772A5F9798F765896235B07E6BC449  ...  0\n",
              "36065  63772A5F9798F765896235B07E6BC449  ...  0\n",
              "36066  63772A5F9798F765896235B07E6BC449  ...  0\n",
              "\n",
              "[36067 rows x 27 columns]"
            ]
          },
          "metadata": {},
          "execution_count": 623
        }
      ]
    },
    {
      "cell_type": "code",
      "metadata": {
        "id": "5moEum3IukrV"
      },
      "source": [
        "cols_drop = ['login_hash','country_hash','server_hash_x','server_hash_y','open_time','close_time']#,'time_duration']"
      ],
      "execution_count": 624,
      "outputs": []
    },
    {
      "cell_type": "code",
      "metadata": {
        "id": "uo_02Ij43QqJ"
      },
      "source": [
        "df_login_hash = df_train2['login_hash']\n",
        "df_train2.drop(labels=cols_drop,axis=1,inplace=True)"
      ],
      "execution_count": 625,
      "outputs": []
    },
    {
      "cell_type": "code",
      "metadata": {
        "id": "9zKlqAP43lKI"
      },
      "source": [
        "obj_cols = df_train2.select_dtypes(np.object).columns.to_list()"
      ],
      "execution_count": 626,
      "outputs": []
    },
    {
      "cell_type": "code",
      "metadata": {
        "id": "6irKaX2w3v7H"
      },
      "source": [
        "le = LabelEncoder()\n",
        "for col in obj_cols:\n",
        "  df_train2[col] = le.fit_transform(df_train2[col])"
      ],
      "execution_count": 627,
      "outputs": []
    },
    {
      "cell_type": "code",
      "metadata": {
        "colab": {
          "base_uri": "https://localhost:8080/",
          "height": 162
        },
        "id": "QYozJJzN3_ix",
        "outputId": "99608ebb-99c2-4d4c-ca28-fa849285e08e"
      },
      "source": [
        "df_train2.head(3)"
      ],
      "execution_count": 628,
      "outputs": [
        {
          "output_type": "execute_result",
          "data": {
            "text/html": [
              "<div>\n",
              "<style scoped>\n",
              "    .dataframe tbody tr th:only-of-type {\n",
              "        vertical-align: middle;\n",
              "    }\n",
              "\n",
              "    .dataframe tbody tr th {\n",
              "        vertical-align: top;\n",
              "    }\n",
              "\n",
              "    .dataframe thead th {\n",
              "        text-align: right;\n",
              "    }\n",
              "</style>\n",
              "<table border=\"1\" class=\"dataframe\">\n",
              "  <thead>\n",
              "    <tr style=\"text-align: right;\">\n",
              "      <th></th>\n",
              "      <th>currency</th>\n",
              "      <th>enable</th>\n",
              "      <th>ticket_hash</th>\n",
              "      <th>symbol</th>\n",
              "      <th>digits</th>\n",
              "      <th>cmd</th>\n",
              "      <th>volume</th>\n",
              "      <th>open_price</th>\n",
              "      <th>contractsize</th>\n",
              "      <th>221CDFB73049678E244380B45872CBB2</th>\n",
              "      <th>4442E4AF0916F53A07FB8CA9A49B98ED</th>\n",
              "      <th>4A2581E346483DA488A11C4B2D2DE97E</th>\n",
              "      <th>551FE18EF47D4E6E9D943B9A68ADA21D</th>\n",
              "      <th>77DAB2F81A6C8C9136EFBA7AB2C4C0F2</th>\n",
              "      <th>89F9C9F489BE2A83CF57E53B9197D288</th>\n",
              "      <th>907EBA32D950BFAB68227FD7EA22999B</th>\n",
              "      <th>A67D4CBDD1B59E0FFCCC6BAFC83EB033</th>\n",
              "      <th>A8F809C99C4A996780C3046B9B594195</th>\n",
              "      <th>AE54A5C026F31ADA088992587D92CB3A</th>\n",
              "      <th>C51ED580EA5E20C910D951F692512B4D</th>\n",
              "      <th>S3</th>\n",
              "    </tr>\n",
              "  </thead>\n",
              "  <tbody>\n",
              "    <tr>\n",
              "      <th>0</th>\n",
              "      <td>0</td>\n",
              "      <td>1</td>\n",
              "      <td>284</td>\n",
              "      <td>10</td>\n",
              "      <td>3</td>\n",
              "      <td>1</td>\n",
              "      <td>1</td>\n",
              "      <td>117.15000</td>\n",
              "      <td>100000.0</td>\n",
              "      <td>0</td>\n",
              "      <td>1</td>\n",
              "      <td>0</td>\n",
              "      <td>0</td>\n",
              "      <td>0</td>\n",
              "      <td>0</td>\n",
              "      <td>0</td>\n",
              "      <td>0</td>\n",
              "      <td>0</td>\n",
              "      <td>0</td>\n",
              "      <td>0</td>\n",
              "      <td>0</td>\n",
              "    </tr>\n",
              "    <tr>\n",
              "      <th>1</th>\n",
              "      <td>0</td>\n",
              "      <td>1</td>\n",
              "      <td>4880</td>\n",
              "      <td>3</td>\n",
              "      <td>5</td>\n",
              "      <td>0</td>\n",
              "      <td>5</td>\n",
              "      <td>1.09184</td>\n",
              "      <td>100000.0</td>\n",
              "      <td>0</td>\n",
              "      <td>1</td>\n",
              "      <td>0</td>\n",
              "      <td>0</td>\n",
              "      <td>0</td>\n",
              "      <td>0</td>\n",
              "      <td>0</td>\n",
              "      <td>0</td>\n",
              "      <td>0</td>\n",
              "      <td>0</td>\n",
              "      <td>0</td>\n",
              "      <td>0</td>\n",
              "    </tr>\n",
              "    <tr>\n",
              "      <th>2</th>\n",
              "      <td>0</td>\n",
              "      <td>1</td>\n",
              "      <td>4825</td>\n",
              "      <td>28</td>\n",
              "      <td>5</td>\n",
              "      <td>1</td>\n",
              "      <td>2</td>\n",
              "      <td>0.59741</td>\n",
              "      <td>100000.0</td>\n",
              "      <td>0</td>\n",
              "      <td>1</td>\n",
              "      <td>0</td>\n",
              "      <td>0</td>\n",
              "      <td>0</td>\n",
              "      <td>0</td>\n",
              "      <td>0</td>\n",
              "      <td>0</td>\n",
              "      <td>0</td>\n",
              "      <td>0</td>\n",
              "      <td>0</td>\n",
              "      <td>0</td>\n",
              "    </tr>\n",
              "  </tbody>\n",
              "</table>\n",
              "</div>"
            ],
            "text/plain": [
              "   currency  enable  ...  C51ED580EA5E20C910D951F692512B4D  S3\n",
              "0         0       1  ...                                 0   0\n",
              "1         0       1  ...                                 0   0\n",
              "2         0       1  ...                                 0   0\n",
              "\n",
              "[3 rows x 21 columns]"
            ]
          },
          "metadata": {},
          "execution_count": 628
        }
      ]
    },
    {
      "cell_type": "code",
      "metadata": {
        "id": "nC521a2J4SQj"
      },
      "source": [
        "sc = StandardScaler()\n",
        "\n",
        "df_scaled = sc.fit_transform(df_train2)"
      ],
      "execution_count": 629,
      "outputs": []
    },
    {
      "cell_type": "code",
      "metadata": {
        "colab": {
          "base_uri": "https://localhost:8080/",
          "height": 130
        },
        "id": "B9wE5Mj05YKn",
        "outputId": "5f2c08a8-96f4-413a-c89f-5c10d48027df"
      },
      "source": [
        "df = pd.DataFrame(df_scaled)\n",
        "df.columns = df_train2.columns\n",
        "df.head(2)"
      ],
      "execution_count": 630,
      "outputs": [
        {
          "output_type": "execute_result",
          "data": {
            "text/html": [
              "<div>\n",
              "<style scoped>\n",
              "    .dataframe tbody tr th:only-of-type {\n",
              "        vertical-align: middle;\n",
              "    }\n",
              "\n",
              "    .dataframe tbody tr th {\n",
              "        vertical-align: top;\n",
              "    }\n",
              "\n",
              "    .dataframe thead th {\n",
              "        text-align: right;\n",
              "    }\n",
              "</style>\n",
              "<table border=\"1\" class=\"dataframe\">\n",
              "  <thead>\n",
              "    <tr style=\"text-align: right;\">\n",
              "      <th></th>\n",
              "      <th>currency</th>\n",
              "      <th>enable</th>\n",
              "      <th>ticket_hash</th>\n",
              "      <th>symbol</th>\n",
              "      <th>digits</th>\n",
              "      <th>cmd</th>\n",
              "      <th>volume</th>\n",
              "      <th>open_price</th>\n",
              "      <th>contractsize</th>\n",
              "      <th>221CDFB73049678E244380B45872CBB2</th>\n",
              "      <th>4442E4AF0916F53A07FB8CA9A49B98ED</th>\n",
              "      <th>4A2581E346483DA488A11C4B2D2DE97E</th>\n",
              "      <th>551FE18EF47D4E6E9D943B9A68ADA21D</th>\n",
              "      <th>77DAB2F81A6C8C9136EFBA7AB2C4C0F2</th>\n",
              "      <th>89F9C9F489BE2A83CF57E53B9197D288</th>\n",
              "      <th>907EBA32D950BFAB68227FD7EA22999B</th>\n",
              "      <th>A67D4CBDD1B59E0FFCCC6BAFC83EB033</th>\n",
              "      <th>A8F809C99C4A996780C3046B9B594195</th>\n",
              "      <th>AE54A5C026F31ADA088992587D92CB3A</th>\n",
              "      <th>C51ED580EA5E20C910D951F692512B4D</th>\n",
              "      <th>S3</th>\n",
              "    </tr>\n",
              "  </thead>\n",
              "  <tbody>\n",
              "    <tr>\n",
              "      <th>0</th>\n",
              "      <td>-1.875288</td>\n",
              "      <td>0.189635</td>\n",
              "      <td>-1.636807</td>\n",
              "      <td>-1.091957</td>\n",
              "      <td>-1.253201</td>\n",
              "      <td>1.050487</td>\n",
              "      <td>-0.165768</td>\n",
              "      <td>-0.199576</td>\n",
              "      <td>0.460224</td>\n",
              "      <td>-0.010532</td>\n",
              "      <td>0.28103</td>\n",
              "      <td>-0.073729</td>\n",
              "      <td>-0.14383</td>\n",
              "      <td>-0.032901</td>\n",
              "      <td>-0.199761</td>\n",
              "      <td>-0.040821</td>\n",
              "      <td>-0.025804</td>\n",
              "      <td>-0.041497</td>\n",
              "      <td>-0.047149</td>\n",
              "      <td>-0.035345</td>\n",
              "      <td>-0.054548</td>\n",
              "    </tr>\n",
              "    <tr>\n",
              "      <th>1</th>\n",
              "      <td>-1.875288</td>\n",
              "      <td>0.189635</td>\n",
              "      <td>0.375591</td>\n",
              "      <td>-1.761878</td>\n",
              "      <td>0.474663</td>\n",
              "      <td>-0.951940</td>\n",
              "      <td>-0.060846</td>\n",
              "      <td>-0.284855</td>\n",
              "      <td>0.460224</td>\n",
              "      <td>-0.010532</td>\n",
              "      <td>0.28103</td>\n",
              "      <td>-0.073729</td>\n",
              "      <td>-0.14383</td>\n",
              "      <td>-0.032901</td>\n",
              "      <td>-0.199761</td>\n",
              "      <td>-0.040821</td>\n",
              "      <td>-0.025804</td>\n",
              "      <td>-0.041497</td>\n",
              "      <td>-0.047149</td>\n",
              "      <td>-0.035345</td>\n",
              "      <td>-0.054548</td>\n",
              "    </tr>\n",
              "  </tbody>\n",
              "</table>\n",
              "</div>"
            ],
            "text/plain": [
              "   currency    enable  ...  C51ED580EA5E20C910D951F692512B4D        S3\n",
              "0 -1.875288  0.189635  ...                         -0.035345 -0.054548\n",
              "1 -1.875288  0.189635  ...                         -0.035345 -0.054548\n",
              "\n",
              "[2 rows x 21 columns]"
            ]
          },
          "metadata": {},
          "execution_count": 630
        }
      ]
    },
    {
      "cell_type": "markdown",
      "metadata": {
        "id": "tL9orjU57TnU"
      },
      "source": [
        "#3.Modelling"
      ]
    },
    {
      "cell_type": "code",
      "metadata": {
        "colab": {
          "base_uri": "https://localhost:8080/"
        },
        "id": "2j2TzZxD91sD",
        "outputId": "4c703165-563b-43bc-ab47-d62ebf77dcdb"
      },
      "source": [
        "df.columns"
      ],
      "execution_count": 638,
      "outputs": [
        {
          "output_type": "execute_result",
          "data": {
            "text/plain": [
              "Index(['currency', 'enable', 'ticket_hash', 'symbol', 'digits', 'cmd',\n",
              "       'volume', 'open_price', 'contractsize',\n",
              "       '221CDFB73049678E244380B45872CBB2', '4442E4AF0916F53A07FB8CA9A49B98ED',\n",
              "       '4A2581E346483DA488A11C4B2D2DE97E', '551FE18EF47D4E6E9D943B9A68ADA21D',\n",
              "       '77DAB2F81A6C8C9136EFBA7AB2C4C0F2', '89F9C9F489BE2A83CF57E53B9197D288',\n",
              "       '907EBA32D950BFAB68227FD7EA22999B', 'A67D4CBDD1B59E0FFCCC6BAFC83EB033',\n",
              "       'A8F809C99C4A996780C3046B9B594195', 'AE54A5C026F31ADA088992587D92CB3A',\n",
              "       'C51ED580EA5E20C910D951F692512B4D', 'S3', 'Cluster'],\n",
              "      dtype='object')"
            ]
          },
          "metadata": {},
          "execution_count": 638
        }
      ]
    },
    {
      "cell_type": "code",
      "metadata": {
        "colab": {
          "base_uri": "https://localhost:8080/",
          "height": 69
        },
        "id": "38SRCK6p9yz2",
        "outputId": "ac4932cd-0c62-4fa4-81a4-177b9a9e3620"
      },
      "source": [
        "\"\"\"df_t = df[['currency', 'enable', 'symbol', 'digits', 'cmd',\n",
        "       'volume', 'open_price', 'contractsize'\n",
        "       , 'open_year', 'close_year',\n",
        "       'open_month', 'close_month', 'open_day', 'close_day', 'open_hr',\n",
        "       'close_hr', 'open_min', 'close_min', 'open_sec', 'close_sec']]\"\"\""
      ],
      "execution_count": 632,
      "outputs": [
        {
          "output_type": "execute_result",
          "data": {
            "application/vnd.google.colaboratory.intrinsic+json": {
              "type": "string"
            },
            "text/plain": [
              "\"df_t = df[['currency', 'enable', 'symbol', 'digits', 'cmd',\\n       'volume', 'open_price', 'contractsize'\\n       , 'open_year', 'close_year',\\n       'open_month', 'close_month', 'open_day', 'close_day', 'open_hr',\\n       'close_hr', 'open_min', 'close_min', 'open_sec', 'close_sec']]\""
            ]
          },
          "metadata": {},
          "execution_count": 632
        }
      ]
    },
    {
      "cell_type": "code",
      "metadata": {
        "id": "K9ThDRJs7TCm"
      },
      "source": [
        "from sklearn.cluster import KMeans"
      ],
      "execution_count": 633,
      "outputs": []
    },
    {
      "cell_type": "code",
      "metadata": {
        "colab": {
          "base_uri": "https://localhost:8080/",
          "height": 290
        },
        "id": "PJ2hhFCj8eWw",
        "outputId": "28e291bf-82e5-4fd6-e1d9-a1ed0b280c90"
      },
      "source": [
        "#km = KMeans(n_clusters=10)\n",
        "\n",
        "ks = range(1,10)\n",
        "inertias = []\n",
        "\n",
        "for k in ks:\n",
        "    # Create a KMeans instance with k clusters: model\n",
        "    model=KMeans(n_clusters=k)\n",
        "    \n",
        "    # Fit model to samples\n",
        "    model.fit(df)\n",
        "    \n",
        "    # Append the inertia to the list of inertias\n",
        "    inertias.append(model.inertia_)\n",
        "    \n",
        "# Plot ks vs inertias\n",
        "plt.plot(ks, inertias, '-o')\n",
        "plt.xlabel('number of clusters, k')\n",
        "plt.ylabel('inertia')\n",
        "plt.xticks(ks)\n",
        "plt.show()"
      ],
      "execution_count": 637,
      "outputs": [
        {
          "output_type": "display_data",
          "data": {
            "image/png": "[encoded data removed]",
            "text/plain": [
              "<Figure size 432x288 with 1 Axes>"
            ]
          },
          "metadata": {
            "needs_background": "light"
          }
        }
      ]
    },
    {
      "cell_type": "code",
      "metadata": {
        "colab": {
          "base_uri": "https://localhost:8080/"
        },
        "id": "DgH02tMKKf7e",
        "outputId": "e53cdc57-8a64-474f-9c0b-5c700037f479"
      },
      "source": [
        "model=KMeans(n_clusters=4)\n",
        "# Fitting model\n",
        "model.fit(df)"
      ],
      "execution_count": 640,
      "outputs": [
        {
          "output_type": "execute_result",
          "data": {
            "text/plain": [
              "KMeans(algorithm='auto', copy_x=True, init='k-means++', max_iter=300,\n",
              "       n_clusters=4, n_init=10, n_jobs=None, precompute_distances='auto',\n",
              "       random_state=None, tol=0.0001, verbose=0)"
            ]
          },
          "metadata": {},
          "execution_count": 640
        }
      ]
    },
    {
      "cell_type": "code",
      "metadata": {
        "id": "ohVuqlF-_0P1"
      },
      "source": [
        "df['Cluster'] = model.labels_"
      ],
      "execution_count": 641,
      "outputs": []
    },
    {
      "cell_type": "code",
      "metadata": {
        "colab": {
          "base_uri": "https://localhost:8080/",
          "height": 297
        },
        "id": "6uE2S99CKQ-B",
        "outputId": "18678e6b-e3ec-49de-8dfe-eeb9dc55a3a0"
      },
      "source": [
        "plt.figure(figsize=(6,4))\n",
        "sns.countplot(df['Cluster'],order=df['Cluster'].value_counts().index)\n",
        "plt.tight_layout()\n",
        "plt.show()"
      ],
      "execution_count": 647,
      "outputs": [
        {
          "output_type": "display_data",
          "data": {
            "image/png": "[encoded data removed]",
            "text/plain": [
              "<Figure size 432x288 with 1 Axes>"
            ]
          },
          "metadata": {
            "needs_background": "light"
          }
        }
      ]
    },
    {
      "cell_type": "markdown",
      "metadata": {
        "id": "1FmpO-_H0EdK"
      },
      "source": [
        "Performing PCA to find out three principal components"
      ]
    },
    {
      "cell_type": "code",
      "metadata": {
        "id": "gHBUAHh3veMf"
      },
      "source": [
        ""
      ],
      "execution_count": 635,
      "outputs": []
    }
  ]
}