{
  "nbformat": 4,
  "nbformat_minor": 0,
  "metadata": {
    "colab": {
      "name": "Trade markets.ipynb",
      "provenance": []
    },
    "kernelspec": {
      "name": "python3",
      "display_name": "Python 3"
    },
    "language_info": {
      "name": "python"
    }
  },
  "cells": [
    {
      "cell_type": "markdown",
      "metadata": {
        "id": "j_yOAy4FtPWG"
      },
      "source": [
        "# Trade Markets Analytics"
      ]
    },
    {
      "cell_type": "markdown",
      "metadata": {
        "id": "RWb54MTUtXrJ"
      },
      "source": [
        "# 1.Introduction"
      ]
    },
    {
      "cell_type": "markdown",
      "metadata": {
        "id": "mX58jnHTEX9Z"
      },
      "source": [
        "select * from users;\n",
        "\n",
        "\n",
        "select * from trades;\n",
        "\n",
        "\n",
        "select count(*) from users;\n",
        "\n",
        "select count(*) from trades where login_hash in (select login_hash from users);\n",
        "\n",
        "\n",
        "select count(*) from trades;-- where login_hash in (select login_hash from users);\n",
        "select count(*) from trades t inner join users u on t.login_hash = u.login_hash; -- where login_hash in (select login_hash from users);\n",
        "\n"
      ]
    },
    {
      "cell_type": "code",
      "metadata": {
        "id": "bQGoUtSVq8f8"
      },
      "source": [
        "import pandas as pd\n",
        "import numpy as np\n",
        "import matplotlib.pyplot as plt\n",
        "import seaborn as sns"
      ],
      "execution_count": 87,
      "outputs": []
    },
    {
      "cell_type": "code",
      "metadata": {
        "id": "9KFmB9wUtcVU"
      },
      "source": [
        "users = pd.read_csv('/content/Users.csv')\n",
        "trades = pd.read_csv('/content/Trades.csv')"
      ],
      "execution_count": 88,
      "outputs": []
    },
    {
      "cell_type": "markdown",
      "metadata": {
        "id": "RuSwlavDt1hn"
      },
      "source": [
        "# 1.1 Users"
      ]
    },
    {
      "cell_type": "code",
      "metadata": {
        "colab": {
          "base_uri": "https://localhost:8080/",
          "height": 203
        },
        "id": "yybV6IMFt0o_",
        "outputId": "d5b6547e-ba35-4af4-cc11-6d1c2fc922f6"
      },
      "source": [
        "users.head()"
      ],
      "execution_count": 89,
      "outputs": [
        {
          "output_type": "execute_result",
          "data": {
            "text/html": [
              "<div>\n",
              "<style scoped>\n",
              "    .dataframe tbody tr th:only-of-type {\n",
              "        vertical-align: middle;\n",
              "    }\n",
              "\n",
              "    .dataframe tbody tr th {\n",
              "        vertical-align: top;\n",
              "    }\n",
              "\n",
              "    .dataframe thead th {\n",
              "        text-align: right;\n",
              "    }\n",
              "</style>\n",
              "<table border=\"1\" class=\"dataframe\">\n",
              "  <thead>\n",
              "    <tr style=\"text-align: right;\">\n",
              "      <th></th>\n",
              "      <th>login_hash</th>\n",
              "      <th>server_hash</th>\n",
              "      <th>country_hash</th>\n",
              "      <th>currency</th>\n",
              "      <th>enable</th>\n",
              "    </tr>\n",
              "  </thead>\n",
              "  <tbody>\n",
              "    <tr>\n",
              "      <th>0</th>\n",
              "      <td>03A15F382AF3D505592CA69EFD4DC431</td>\n",
              "      <td>76791A893BDB9A68E8EE44898D581A60</td>\n",
              "      <td>AE54A5C026F31ADA088992587D92CB3A</td>\n",
              "      <td>USD</td>\n",
              "      <td>1</td>\n",
              "    </tr>\n",
              "    <tr>\n",
              "      <th>1</th>\n",
              "      <td>F8ADF5FF9840712CE2AF7FA9EA2A3FA7</td>\n",
              "      <td>76791A893BDB9A68E8EE44898D581A60</td>\n",
              "      <td>AE54A5C026F31ADA088992587D92CB3A</td>\n",
              "      <td>USD</td>\n",
              "      <td>1</td>\n",
              "    </tr>\n",
              "    <tr>\n",
              "      <th>2</th>\n",
              "      <td>B78CD788AB20A5D61CB13BD5389CABB3</td>\n",
              "      <td>76791A893BDB9A68E8EE44898D581A60</td>\n",
              "      <td>AE54A5C026F31ADA088992587D92CB3A</td>\n",
              "      <td>USD</td>\n",
              "      <td>1</td>\n",
              "    </tr>\n",
              "    <tr>\n",
              "      <th>3</th>\n",
              "      <td>DEFB729116227EF8582BFEC65F998489</td>\n",
              "      <td>76791A893BDB9A68E8EE44898D581A60</td>\n",
              "      <td>103357E3E40A9C0E4E9D36110F7BBC7A</td>\n",
              "      <td>USD</td>\n",
              "      <td>1</td>\n",
              "    </tr>\n",
              "    <tr>\n",
              "      <th>4</th>\n",
              "      <td>9EAD9A73AA6C93823C56BB8C2E798B45</td>\n",
              "      <td>76791A893BDB9A68E8EE44898D581A60</td>\n",
              "      <td>AE54A5C026F31ADA088992587D92CB3A</td>\n",
              "      <td>USD</td>\n",
              "      <td>1</td>\n",
              "    </tr>\n",
              "  </tbody>\n",
              "</table>\n",
              "</div>"
            ],
            "text/plain": [
              "                         login_hash  ... enable\n",
              "0  03A15F382AF3D505592CA69EFD4DC431  ...      1\n",
              "1  F8ADF5FF9840712CE2AF7FA9EA2A3FA7  ...      1\n",
              "2  B78CD788AB20A5D61CB13BD5389CABB3  ...      1\n",
              "3  DEFB729116227EF8582BFEC65F998489  ...      1\n",
              "4  9EAD9A73AA6C93823C56BB8C2E798B45  ...      1\n",
              "\n",
              "[5 rows x 5 columns]"
            ]
          },
          "metadata": {},
          "execution_count": 89
        }
      ]
    },
    {
      "cell_type": "code",
      "metadata": {
        "colab": {
          "base_uri": "https://localhost:8080/"
        },
        "id": "fsxNsn71t520",
        "outputId": "a48b9a1c-7dca-4768-cf1a-af151fbfbfda"
      },
      "source": [
        "users.info()"
      ],
      "execution_count": 90,
      "outputs": [
        {
          "output_type": "stream",
          "name": "stdout",
          "text": [
            "<class 'pandas.core.frame.DataFrame'>\n",
            "RangeIndex: 1000 entries, 0 to 999\n",
            "Data columns (total 5 columns):\n",
            " #   Column        Non-Null Count  Dtype \n",
            "---  ------        --------------  ----- \n",
            " 0   login_hash    1000 non-null   object\n",
            " 1   server_hash   1000 non-null   object\n",
            " 2   country_hash  1000 non-null   object\n",
            " 3   currency      1000 non-null   object\n",
            " 4   enable        1000 non-null   int64 \n",
            "dtypes: int64(1), object(4)\n",
            "memory usage: 39.2+ KB\n"
          ]
        }
      ]
    },
    {
      "cell_type": "code",
      "metadata": {
        "colab": {
          "base_uri": "https://localhost:8080/"
        },
        "id": "AFg3bijzuGfv",
        "outputId": "66a6ccbb-0a19-4354-d5a3-2dbac9326c3f"
      },
      "source": [
        "servers = users['server_hash'].unique()\n",
        "print('Number of unique server:',len(servers))\n",
        "country = users['country_hash'].unique()\n",
        "print('Number of unique countries:',len(country))"
      ],
      "execution_count": 91,
      "outputs": [
        {
          "output_type": "stream",
          "name": "stdout",
          "text": [
            "Number of unique server: 3\n",
            "Number of unique countries: 19\n"
          ]
        }
      ]
    },
    {
      "cell_type": "code",
      "metadata": {
        "colab": {
          "base_uri": "https://localhost:8080/"
        },
        "id": "JFYsichHuiG5",
        "outputId": "ba3e1d9b-bcf6-4e36-90e4-bb82a0722c51"
      },
      "source": [
        "users['enable'].value_counts()"
      ],
      "execution_count": 92,
      "outputs": [
        {
          "output_type": "execute_result",
          "data": {
            "text/plain": [
              "1    973\n",
              "0     27\n",
              "Name: enable, dtype: int64"
            ]
          },
          "metadata": {},
          "execution_count": 92
        }
      ]
    },
    {
      "cell_type": "code",
      "metadata": {
        "colab": {
          "base_uri": "https://localhost:8080/",
          "height": 172
        },
        "id": "QK7OH7D4vo_j",
        "outputId": "c2b09176-2985-45c7-879e-24b1c72d4114"
      },
      "source": [
        "cur = users['currency'].value_counts().to_frame('Count')\n",
        "cur"
      ],
      "execution_count": 93,
      "outputs": [
        {
          "output_type": "execute_result",
          "data": {
            "text/html": [
              "<div>\n",
              "<style scoped>\n",
              "    .dataframe tbody tr th:only-of-type {\n",
              "        vertical-align: middle;\n",
              "    }\n",
              "\n",
              "    .dataframe tbody tr th {\n",
              "        vertical-align: top;\n",
              "    }\n",
              "\n",
              "    .dataframe thead th {\n",
              "        text-align: right;\n",
              "    }\n",
              "</style>\n",
              "<table border=\"1\" class=\"dataframe\">\n",
              "  <thead>\n",
              "    <tr style=\"text-align: right;\">\n",
              "      <th></th>\n",
              "      <th>Count</th>\n",
              "    </tr>\n",
              "  </thead>\n",
              "  <tbody>\n",
              "    <tr>\n",
              "      <th>USD</th>\n",
              "      <td>906</td>\n",
              "    </tr>\n",
              "    <tr>\n",
              "      <th>AUD</th>\n",
              "      <td>91</td>\n",
              "    </tr>\n",
              "    <tr>\n",
              "      <th>NZD</th>\n",
              "      <td>2</td>\n",
              "    </tr>\n",
              "    <tr>\n",
              "      <th>EUR</th>\n",
              "      <td>1</td>\n",
              "    </tr>\n",
              "  </tbody>\n",
              "</table>\n",
              "</div>"
            ],
            "text/plain": [
              "     Count\n",
              "USD    906\n",
              "AUD     91\n",
              "NZD      2\n",
              "EUR      1"
            ]
          },
          "metadata": {},
          "execution_count": 93
        }
      ]
    },
    {
      "cell_type": "code",
      "metadata": {
        "colab": {
          "base_uri": "https://localhost:8080/",
          "height": 297
        },
        "id": "E2-d8nRVwC-u",
        "outputId": "7f9dc654-7a22-49c6-f7d4-403069854978"
      },
      "source": [
        "plt.figure(figsize=(8,4))\n",
        "plt.subplot(1,2,1)\n",
        "sns.countplot(data = users, x='currency',order=users['currency'].value_counts().index)\n",
        "plt.subplot(1,2,2)\n",
        "sns.countplot(data = users, x='enable',order=users['enable'].value_counts().index)\n",
        "plt.tight_layout()\n",
        "plt.show()"
      ],
      "execution_count": 94,
      "outputs": [
        {
          "output_type": "display_data",
          "data": {
            "image/png": "[encoded data removed]",
            "text/plain": [
              "<Figure size 576x288 with 2 Axes>"
            ]
          },
          "metadata": {
            "needs_background": "light"
          }
        }
      ]
    },
    {
      "cell_type": "markdown",
      "metadata": {
        "id": "-2DQdDiEy2sG"
      },
      "source": [
        "#1.2 Trades"
      ]
    },
    {
      "cell_type": "code",
      "metadata": {
        "colab": {
          "base_uri": "https://localhost:8080/",
          "height": 391
        },
        "id": "yYvL26bNwsd1",
        "outputId": "d77469e2-54ae-435b-b12c-f932e6314f76"
      },
      "source": [
        "trades.head()"
      ],
      "execution_count": 95,
      "outputs": [
        {
          "output_type": "execute_result",
          "data": {
            "text/html": [
              "<div>\n",
              "<style scoped>\n",
              "    .dataframe tbody tr th:only-of-type {\n",
              "        vertical-align: middle;\n",
              "    }\n",
              "\n",
              "    .dataframe tbody tr th {\n",
              "        vertical-align: top;\n",
              "    }\n",
              "\n",
              "    .dataframe thead th {\n",
              "        text-align: right;\n",
              "    }\n",
              "</style>\n",
              "<table border=\"1\" class=\"dataframe\">\n",
              "  <thead>\n",
              "    <tr style=\"text-align: right;\">\n",
              "      <th></th>\n",
              "      <th>login_hash</th>\n",
              "      <th>ticket_hash</th>\n",
              "      <th>server_hash</th>\n",
              "      <th>symbol</th>\n",
              "      <th>digits</th>\n",
              "      <th>cmd</th>\n",
              "      <th>volume</th>\n",
              "      <th>open_time</th>\n",
              "      <th>open_price</th>\n",
              "      <th>close_time</th>\n",
              "      <th>contractsize</th>\n",
              "    </tr>\n",
              "  </thead>\n",
              "  <tbody>\n",
              "    <tr>\n",
              "      <th>0</th>\n",
              "      <td>0DF500A57244E5B1670277767BEBB554</td>\n",
              "      <td>B321DC57F3B410507B986DD8962F8B1C</td>\n",
              "      <td>2F1CA40D76D7E6165DBA3924CE0D3B5C</td>\n",
              "      <td>EURUSD</td>\n",
              "      <td>5</td>\n",
              "      <td>1</td>\n",
              "      <td>5</td>\n",
              "      <td>2020-08-19 12:19:11</td>\n",
              "      <td>1.19459</td>\n",
              "      <td>2020-08-19 12:48:09</td>\n",
              "      <td>100000.0</td>\n",
              "    </tr>\n",
              "    <tr>\n",
              "      <th>1</th>\n",
              "      <td>6D66E192834605522190E51BF226FF5B</td>\n",
              "      <td>F68DA930EE1129D94EDFA02EBAF9E7B4</td>\n",
              "      <td>2F1CA40D76D7E6165DBA3924CE0D3B5C</td>\n",
              "      <td>XAUUSD</td>\n",
              "      <td>2</td>\n",
              "      <td>1</td>\n",
              "      <td>1</td>\n",
              "      <td>2020-08-28 03:09:02</td>\n",
              "      <td>1925.48000</td>\n",
              "      <td>2020-08-28 06:03:45</td>\n",
              "      <td>100.0</td>\n",
              "    </tr>\n",
              "    <tr>\n",
              "      <th>2</th>\n",
              "      <td>04852EC1A7D9FB8A291A24DDCE8C62B9</td>\n",
              "      <td>E351B480079ADEC7F6E6BE3ACEEA6EDF</td>\n",
              "      <td>2F1CA40D76D7E6165DBA3924CE0D3B5C</td>\n",
              "      <td>EURGBP</td>\n",
              "      <td>5</td>\n",
              "      <td>0</td>\n",
              "      <td>10</td>\n",
              "      <td>2020-08-25 13:47:34</td>\n",
              "      <td>0.90157</td>\n",
              "      <td>2020-09-08 12:20:43</td>\n",
              "      <td>100000.0</td>\n",
              "    </tr>\n",
              "    <tr>\n",
              "      <th>3</th>\n",
              "      <td>E62BE617269467931F2239C2771605C2</td>\n",
              "      <td>363723A73A926A7434E815F2F1D5ED61</td>\n",
              "      <td>2F1CA40D76D7E6165DBA3924CE0D3B5C</td>\n",
              "      <td>XAUUSD</td>\n",
              "      <td>2</td>\n",
              "      <td>1</td>\n",
              "      <td>10</td>\n",
              "      <td>2020-08-28 02:46:57</td>\n",
              "      <td>1926.68000</td>\n",
              "      <td>2020-08-28 02:51:13</td>\n",
              "      <td>100.0</td>\n",
              "    </tr>\n",
              "    <tr>\n",
              "      <th>4</th>\n",
              "      <td>54D2B4C5ECAE5FBC316524329846F81E</td>\n",
              "      <td>9CD4110328DA4CD71FFE0BE486D51094</td>\n",
              "      <td>2F1CA40D76D7E6165DBA3924CE0D3B5C</td>\n",
              "      <td>XAUUSD</td>\n",
              "      <td>2</td>\n",
              "      <td>1</td>\n",
              "      <td>85</td>\n",
              "      <td>2020-08-11 09:27:28</td>\n",
              "      <td>1999.12000</td>\n",
              "      <td>2020-08-11 09:27:54</td>\n",
              "      <td>100.0</td>\n",
              "    </tr>\n",
              "  </tbody>\n",
              "</table>\n",
              "</div>"
            ],
            "text/plain": [
              "                         login_hash  ... contractsize\n",
              "0  0DF500A57244E5B1670277767BEBB554  ...     100000.0\n",
              "1  6D66E192834605522190E51BF226FF5B  ...        100.0\n",
              "2  04852EC1A7D9FB8A291A24DDCE8C62B9  ...     100000.0\n",
              "3  E62BE617269467931F2239C2771605C2  ...        100.0\n",
              "4  54D2B4C5ECAE5FBC316524329846F81E  ...        100.0\n",
              "\n",
              "[5 rows x 11 columns]"
            ]
          },
          "metadata": {},
          "execution_count": 95
        }
      ]
    },
    {
      "cell_type": "code",
      "metadata": {
        "colab": {
          "base_uri": "https://localhost:8080/"
        },
        "id": "7R3IZ9dpy63X",
        "outputId": "89183646-b3b8-4683-ac0d-17b5d8d28979"
      },
      "source": [
        "trades.info()"
      ],
      "execution_count": 96,
      "outputs": [
        {
          "output_type": "stream",
          "name": "stdout",
          "text": [
            "<class 'pandas.core.frame.DataFrame'>\n",
            "RangeIndex: 100000 entries, 0 to 99999\n",
            "Data columns (total 11 columns):\n",
            " #   Column        Non-Null Count   Dtype  \n",
            "---  ------        --------------   -----  \n",
            " 0   login_hash    100000 non-null  object \n",
            " 1   ticket_hash   100000 non-null  object \n",
            " 2   server_hash   100000 non-null  object \n",
            " 3   symbol        100000 non-null  object \n",
            " 4   digits        100000 non-null  int64  \n",
            " 5   cmd           100000 non-null  int64  \n",
            " 6   volume        100000 non-null  int64  \n",
            " 7   open_time     100000 non-null  object \n",
            " 8   open_price    100000 non-null  float64\n",
            " 9   close_time    100000 non-null  object \n",
            " 10  contractsize  99993 non-null   float64\n",
            "dtypes: float64(2), int64(3), object(6)\n",
            "memory usage: 8.4+ MB\n"
          ]
        }
      ]
    },
    {
      "cell_type": "code",
      "metadata": {
        "colab": {
          "base_uri": "https://localhost:8080/",
          "height": 295
        },
        "id": "2f24QInmy9Kb",
        "outputId": "cbbfc21c-a5c4-4857-a23e-fa3d3683363a"
      },
      "source": [
        "trades.describe()"
      ],
      "execution_count": 97,
      "outputs": [
        {
          "output_type": "execute_result",
          "data": {
            "text/html": [
              "<div>\n",
              "<style scoped>\n",
              "    .dataframe tbody tr th:only-of-type {\n",
              "        vertical-align: middle;\n",
              "    }\n",
              "\n",
              "    .dataframe tbody tr th {\n",
              "        vertical-align: top;\n",
              "    }\n",
              "\n",
              "    .dataframe thead th {\n",
              "        text-align: right;\n",
              "    }\n",
              "</style>\n",
              "<table border=\"1\" class=\"dataframe\">\n",
              "  <thead>\n",
              "    <tr style=\"text-align: right;\">\n",
              "      <th></th>\n",
              "      <th>digits</th>\n",
              "      <th>cmd</th>\n",
              "      <th>volume</th>\n",
              "      <th>open_price</th>\n",
              "      <th>contractsize</th>\n",
              "    </tr>\n",
              "  </thead>\n",
              "  <tbody>\n",
              "    <tr>\n",
              "      <th>count</th>\n",
              "      <td>100000.000000</td>\n",
              "      <td>100000.000000</td>\n",
              "      <td>100000.000000</td>\n",
              "      <td>100000.000000</td>\n",
              "      <td>99993.000000</td>\n",
              "    </tr>\n",
              "    <tr>\n",
              "      <th>mean</th>\n",
              "      <td>3.214250</td>\n",
              "      <td>0.448170</td>\n",
              "      <td>17.986650</td>\n",
              "      <td>1262.544975</td>\n",
              "      <td>44856.840239</td>\n",
              "    </tr>\n",
              "    <tr>\n",
              "      <th>std</th>\n",
              "      <td>1.463171</td>\n",
              "      <td>0.497309</td>\n",
              "      <td>100.438786</td>\n",
              "      <td>2585.110285</td>\n",
              "      <td>49669.111281</td>\n",
              "    </tr>\n",
              "    <tr>\n",
              "      <th>min</th>\n",
              "      <td>0.000000</td>\n",
              "      <td>0.000000</td>\n",
              "      <td>0.000000</td>\n",
              "      <td>0.591670</td>\n",
              "      <td>1.000000</td>\n",
              "    </tr>\n",
              "    <tr>\n",
              "      <th>25%</th>\n",
              "      <td>2.000000</td>\n",
              "      <td>0.000000</td>\n",
              "      <td>1.000000</td>\n",
              "      <td>1.190937</td>\n",
              "      <td>100.000000</td>\n",
              "    </tr>\n",
              "    <tr>\n",
              "      <th>50%</th>\n",
              "      <td>2.000000</td>\n",
              "      <td>0.000000</td>\n",
              "      <td>3.000000</td>\n",
              "      <td>1887.590000</td>\n",
              "      <td>100.000000</td>\n",
              "    </tr>\n",
              "    <tr>\n",
              "      <th>75%</th>\n",
              "      <td>5.000000</td>\n",
              "      <td>1.000000</td>\n",
              "      <td>10.000000</td>\n",
              "      <td>1967.152500</td>\n",
              "      <td>100000.000000</td>\n",
              "    </tr>\n",
              "    <tr>\n",
              "      <th>max</th>\n",
              "      <td>5.000000</td>\n",
              "      <td>1.000000</td>\n",
              "      <td>10000.000000</td>\n",
              "      <td>28795.000000</td>\n",
              "      <td>100000.000000</td>\n",
              "    </tr>\n",
              "  </tbody>\n",
              "</table>\n",
              "</div>"
            ],
            "text/plain": [
              "              digits            cmd  ...     open_price   contractsize\n",
              "count  100000.000000  100000.000000  ...  100000.000000   99993.000000\n",
              "mean        3.214250       0.448170  ...    1262.544975   44856.840239\n",
              "std         1.463171       0.497309  ...    2585.110285   49669.111281\n",
              "min         0.000000       0.000000  ...       0.591670       1.000000\n",
              "25%         2.000000       0.000000  ...       1.190937     100.000000\n",
              "50%         2.000000       0.000000  ...    1887.590000     100.000000\n",
              "75%         5.000000       1.000000  ...    1967.152500  100000.000000\n",
              "max         5.000000       1.000000  ...   28795.000000  100000.000000\n",
              "\n",
              "[8 rows x 5 columns]"
            ]
          },
          "metadata": {},
          "execution_count": 97
        }
      ]
    },
    {
      "cell_type": "code",
      "metadata": {
        "id": "U4nJD6SpzP2f"
      },
      "source": [
        "#sns.pairplot(trades)"
      ],
      "execution_count": 98,
      "outputs": []
    },
    {
      "cell_type": "code",
      "metadata": {
        "id": "tupq1A8_ze8q"
      },
      "source": [
        "trades['close_time'] = pd.to_datetime(trades['close_time'])\n",
        "trades['open_time'] = pd.to_datetime(trades['open_time'])"
      ],
      "execution_count": 99,
      "outputs": []
    },
    {
      "cell_type": "code",
      "metadata": {
        "id": "kugsHp4n4arD"
      },
      "source": [
        "trades['cmd'] = trades['cmd'].astype(np.object)"
      ],
      "execution_count": 100,
      "outputs": []
    },
    {
      "cell_type": "code",
      "metadata": {
        "id": "-p2Hk2b-45wJ"
      },
      "source": [
        "trades['time_duration'] = trades['close_time']-trades['open_time']"
      ],
      "execution_count": 101,
      "outputs": []
    },
    {
      "cell_type": "code",
      "metadata": {
        "colab": {
          "base_uri": "https://localhost:8080/",
          "height": 362
        },
        "id": "swQO5nMM5Th-",
        "outputId": "2e146208-6b08-4011-f624-e8c182cb9003"
      },
      "source": [
        "sns.distplot(trades['time_duration'])"
      ],
      "execution_count": 102,
      "outputs": [
        {
          "output_type": "stream",
          "name": "stderr",
          "text": [
            "/usr/local/lib/python3.7/dist-packages/seaborn/distributions.py:2619: FutureWarning: `distplot` is a deprecated function and will be removed in a future version. Please adapt your code to use either `displot` (a figure-level function with similar flexibility) or `histplot` (an axes-level function for histograms).\n",
            "  warnings.warn(msg, FutureWarning)\n"
          ]
        },
        {
          "output_type": "execute_result",
          "data": {
            "text/plain": [
              "<matplotlib.axes._subplots.AxesSubplot at 0x7f7e4b8e76d0>"
            ]
          },
          "metadata": {},
          "execution_count": 102
        },
        {
          "output_type": "display_data",
          "data": {
            "image/png": "[encoded data removed]",
            "text/plain": [
              "<Figure size 432x288 with 1 Axes>"
            ]
          },
          "metadata": {
            "needs_background": "light"
          }
        }
      ]
    },
    {
      "cell_type": "code",
      "metadata": {
        "id": "NVfwhbVo5npj"
      },
      "source": [
        "trades['open_year'] = trades['open_time'].dt.year\n",
        "trades['close_year'] = trades['close_time'].dt.year\n",
        "trades['open_month'] = trades['open_time'].dt.month\n",
        "trades['close_month'] = trades['close_time'].dt.month\n",
        "trades['open_day'] = trades['open_time'].dt.day\n",
        "trades['close_day'] = trades['close_time'].dt.day\n",
        "trades['open_hr'] = trades['open_time'].dt.hour\n",
        "trades['close_hr'] = trades['close_time'].dt.hour\n",
        "trades['open_min'] = trades['open_time'].dt.minute\n",
        "trades['close_min'] = trades['close_time'].dt.minute\n",
        "trades['open_sec'] = trades['open_time'].dt.second\n",
        "trades['close_sec'] = trades['close_time'].dt.second"
      ],
      "execution_count": 117,
      "outputs": []
    },
    {
      "cell_type": "code",
      "metadata": {
        "colab": {
          "base_uri": "https://localhost:8080/"
        },
        "id": "xFfY-xMG7NLV",
        "outputId": "1ee13e01-9ec8-4668-ebb4-e49efde4f2d6"
      },
      "source": [
        "trades['close_year'].value_counts()"
      ],
      "execution_count": 104,
      "outputs": [
        {
          "output_type": "execute_result",
          "data": {
            "text/plain": [
              "2020    95142\n",
              "2022     4780\n",
              "2021       78\n",
              "Name: close_year, dtype: int64"
            ]
          },
          "metadata": {},
          "execution_count": 104
        }
      ]
    },
    {
      "cell_type": "code",
      "metadata": {
        "id": "uUaHwHb_72sN"
      },
      "source": [
        "#trades['time_diff_day'] = trades['time_duration'].values.astype('datetime64[D]')"
      ],
      "execution_count": 105,
      "outputs": []
    },
    {
      "cell_type": "code",
      "metadata": {
        "id": "UZlior9Q9znC"
      },
      "source": [
        "#trades['time_duration'].days"
      ],
      "execution_count": 106,
      "outputs": []
    },
    {
      "cell_type": "code",
      "metadata": {
        "id": "qu1P0RQv8xQS"
      },
      "source": [
        "#trades['time_diff_day']"
      ],
      "execution_count": 108,
      "outputs": []
    },
    {
      "cell_type": "code",
      "metadata": {
        "id": "kc3nARf89BeV"
      },
      "source": [
        "df = pd.merge(users, trades, how='inner', on='login_hash')"
      ],
      "execution_count": 118,
      "outputs": []
    },
    {
      "cell_type": "code",
      "metadata": {
        "colab": {
          "base_uri": "https://localhost:8080/"
        },
        "id": "20_KTsrpCZ82",
        "outputId": "a2886776-ad2c-4b12-9f39-933626b166fb"
      },
      "source": [
        "df.shape"
      ],
      "execution_count": 119,
      "outputs": [
        {
          "output_type": "execute_result",
          "data": {
            "text/plain": [
              "(36067, 28)"
            ]
          },
          "metadata": {},
          "execution_count": 119
        }
      ]
    },
    {
      "cell_type": "code",
      "metadata": {
        "colab": {
          "base_uri": "https://localhost:8080/",
          "height": 391
        },
        "id": "XBeA53pMCbdA",
        "outputId": "bd13e05d-30b2-4b16-9211-071b32188ee1"
      },
      "source": [
        "df.head()"
      ],
      "execution_count": 120,
      "outputs": [
        {
          "output_type": "execute_result",
          "data": {
            "text/html": [
              "<div>\n",
              "<style scoped>\n",
              "    .dataframe tbody tr th:only-of-type {\n",
              "        vertical-align: middle;\n",
              "    }\n",
              "\n",
              "    .dataframe tbody tr th {\n",
              "        vertical-align: top;\n",
              "    }\n",
              "\n",
              "    .dataframe thead th {\n",
              "        text-align: right;\n",
              "    }\n",
              "</style>\n",
              "<table border=\"1\" class=\"dataframe\">\n",
              "  <thead>\n",
              "    <tr style=\"text-align: right;\">\n",
              "      <th></th>\n",
              "      <th>login_hash</th>\n",
              "      <th>server_hash_x</th>\n",
              "      <th>country_hash</th>\n",
              "      <th>currency</th>\n",
              "      <th>enable</th>\n",
              "      <th>ticket_hash</th>\n",
              "      <th>server_hash_y</th>\n",
              "      <th>symbol</th>\n",
              "      <th>digits</th>\n",
              "      <th>cmd</th>\n",
              "      <th>volume</th>\n",
              "      <th>open_time</th>\n",
              "      <th>open_price</th>\n",
              "      <th>close_time</th>\n",
              "      <th>contractsize</th>\n",
              "      <th>time_duration</th>\n",
              "      <th>open_year</th>\n",
              "      <th>close_year</th>\n",
              "      <th>open_month</th>\n",
              "      <th>close_month</th>\n",
              "      <th>open_day</th>\n",
              "      <th>close_day</th>\n",
              "      <th>open_hr</th>\n",
              "      <th>close_hr</th>\n",
              "      <th>open_min</th>\n",
              "      <th>close_min</th>\n",
              "      <th>open_sec</th>\n",
              "      <th>close_sec</th>\n",
              "    </tr>\n",
              "  </thead>\n",
              "  <tbody>\n",
              "    <tr>\n",
              "      <th>0</th>\n",
              "      <td>A244C34BC761A97487485F0FF5A43A49</td>\n",
              "      <td>3D1F7E00251C43107EF39F55300781DB</td>\n",
              "      <td>4442E4AF0916F53A07FB8CA9A49B98ED</td>\n",
              "      <td>AUD</td>\n",
              "      <td>1</td>\n",
              "      <td>079A2E7D6C17E4F82D0F2215E0F8CBC9</td>\n",
              "      <td>3D1F7E00251C43107EF39F55300781DB</td>\n",
              "      <td>CHFJPY</td>\n",
              "      <td>3</td>\n",
              "      <td>1</td>\n",
              "      <td>1</td>\n",
              "      <td>2020-08-12 15:53:30</td>\n",
              "      <td>117.15000</td>\n",
              "      <td>2020-08-12 15:55:52</td>\n",
              "      <td>100000.0</td>\n",
              "      <td>0 days 00:02:22</td>\n",
              "      <td>2020</td>\n",
              "      <td>2020</td>\n",
              "      <td>8</td>\n",
              "      <td>8</td>\n",
              "      <td>12</td>\n",
              "      <td>12</td>\n",
              "      <td>15</td>\n",
              "      <td>15</td>\n",
              "      <td>53</td>\n",
              "      <td>55</td>\n",
              "      <td>30</td>\n",
              "      <td>52</td>\n",
              "    </tr>\n",
              "    <tr>\n",
              "      <th>1</th>\n",
              "      <td>A244C34BC761A97487485F0FF5A43A49</td>\n",
              "      <td>3D1F7E00251C43107EF39F55300781DB</td>\n",
              "      <td>4442E4AF0916F53A07FB8CA9A49B98ED</td>\n",
              "      <td>AUD</td>\n",
              "      <td>1</td>\n",
              "      <td>9CCEAE55FF215C71E3486890C2908467</td>\n",
              "      <td>3D1F7E00251C43107EF39F55300781DB</td>\n",
              "      <td>AUDNZD</td>\n",
              "      <td>5</td>\n",
              "      <td>0</td>\n",
              "      <td>5</td>\n",
              "      <td>2020-08-31 08:54:34</td>\n",
              "      <td>1.09184</td>\n",
              "      <td>2020-08-31 12:17:38</td>\n",
              "      <td>100000.0</td>\n",
              "      <td>0 days 03:23:04</td>\n",
              "      <td>2020</td>\n",
              "      <td>2020</td>\n",
              "      <td>8</td>\n",
              "      <td>8</td>\n",
              "      <td>31</td>\n",
              "      <td>31</td>\n",
              "      <td>8</td>\n",
              "      <td>12</td>\n",
              "      <td>54</td>\n",
              "      <td>17</td>\n",
              "      <td>34</td>\n",
              "      <td>38</td>\n",
              "    </tr>\n",
              "    <tr>\n",
              "      <th>2</th>\n",
              "      <td>A244C34BC761A97487485F0FF5A43A49</td>\n",
              "      <td>3D1F7E00251C43107EF39F55300781DB</td>\n",
              "      <td>4442E4AF0916F53A07FB8CA9A49B98ED</td>\n",
              "      <td>AUD</td>\n",
              "      <td>1</td>\n",
              "      <td>9AEEAF4DBFD3BC3D0C74E0547A5E63CC</td>\n",
              "      <td>3D1F7E00251C43107EF39F55300781DB</td>\n",
              "      <td>NZDCHF</td>\n",
              "      <td>5</td>\n",
              "      <td>1</td>\n",
              "      <td>2</td>\n",
              "      <td>2020-08-26 16:46:48</td>\n",
              "      <td>0.59741</td>\n",
              "      <td>2020-11-10 11:46:38</td>\n",
              "      <td>100000.0</td>\n",
              "      <td>75 days 18:59:50</td>\n",
              "      <td>2020</td>\n",
              "      <td>2020</td>\n",
              "      <td>8</td>\n",
              "      <td>11</td>\n",
              "      <td>26</td>\n",
              "      <td>10</td>\n",
              "      <td>16</td>\n",
              "      <td>11</td>\n",
              "      <td>46</td>\n",
              "      <td>46</td>\n",
              "      <td>48</td>\n",
              "      <td>38</td>\n",
              "    </tr>\n",
              "    <tr>\n",
              "      <th>3</th>\n",
              "      <td>A244C34BC761A97487485F0FF5A43A49</td>\n",
              "      <td>3D1F7E00251C43107EF39F55300781DB</td>\n",
              "      <td>4442E4AF0916F53A07FB8CA9A49B98ED</td>\n",
              "      <td>AUD</td>\n",
              "      <td>1</td>\n",
              "      <td>33419C6F0853738662AD6F2B4634E4FA</td>\n",
              "      <td>3D1F7E00251C43107EF39F55300781DB</td>\n",
              "      <td>AUDNZD</td>\n",
              "      <td>5</td>\n",
              "      <td>1</td>\n",
              "      <td>15</td>\n",
              "      <td>2020-08-07 09:55:24</td>\n",
              "      <td>1.08127</td>\n",
              "      <td>2020-09-18 07:20:12</td>\n",
              "      <td>100000.0</td>\n",
              "      <td>41 days 21:24:48</td>\n",
              "      <td>2020</td>\n",
              "      <td>2020</td>\n",
              "      <td>8</td>\n",
              "      <td>9</td>\n",
              "      <td>7</td>\n",
              "      <td>18</td>\n",
              "      <td>9</td>\n",
              "      <td>7</td>\n",
              "      <td>55</td>\n",
              "      <td>20</td>\n",
              "      <td>24</td>\n",
              "      <td>12</td>\n",
              "    </tr>\n",
              "    <tr>\n",
              "      <th>4</th>\n",
              "      <td>A244C34BC761A97487485F0FF5A43A49</td>\n",
              "      <td>3D1F7E00251C43107EF39F55300781DB</td>\n",
              "      <td>4442E4AF0916F53A07FB8CA9A49B98ED</td>\n",
              "      <td>AUD</td>\n",
              "      <td>1</td>\n",
              "      <td>F59719624F9069434028DC77BD2C27A6</td>\n",
              "      <td>3D1F7E00251C43107EF39F55300781DB</td>\n",
              "      <td>GBPAUD</td>\n",
              "      <td>5</td>\n",
              "      <td>1</td>\n",
              "      <td>1</td>\n",
              "      <td>2020-08-27 15:40:42</td>\n",
              "      <td>1.81941</td>\n",
              "      <td>2020-08-27 16:58:55</td>\n",
              "      <td>100000.0</td>\n",
              "      <td>0 days 01:18:13</td>\n",
              "      <td>2020</td>\n",
              "      <td>2020</td>\n",
              "      <td>8</td>\n",
              "      <td>8</td>\n",
              "      <td>27</td>\n",
              "      <td>27</td>\n",
              "      <td>15</td>\n",
              "      <td>16</td>\n",
              "      <td>40</td>\n",
              "      <td>58</td>\n",
              "      <td>42</td>\n",
              "      <td>55</td>\n",
              "    </tr>\n",
              "  </tbody>\n",
              "</table>\n",
              "</div>"
            ],
            "text/plain": [
              "                         login_hash  ... close_sec\n",
              "0  A244C34BC761A97487485F0FF5A43A49  ...        52\n",
              "1  A244C34BC761A97487485F0FF5A43A49  ...        38\n",
              "2  A244C34BC761A97487485F0FF5A43A49  ...        38\n",
              "3  A244C34BC761A97487485F0FF5A43A49  ...        12\n",
              "4  A244C34BC761A97487485F0FF5A43A49  ...        55\n",
              "\n",
              "[5 rows x 28 columns]"
            ]
          },
          "metadata": {},
          "execution_count": 120
        }
      ]
    },
    {
      "cell_type": "code",
      "metadata": {
        "id": "bzvu83DFCiMo"
      },
      "source": [
        ""
      ],
      "execution_count": null,
      "outputs": []
    }
  ]
}